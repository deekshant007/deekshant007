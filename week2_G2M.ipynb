{
 "cells": [
  {
   "cell_type": "markdown",
   "metadata": {},
   "source": [
    "G2M insight for Cab Investment firm"
   ]
  },
  {
   "cell_type": "code",
   "execution_count": 120,
   "metadata": {},
   "outputs": [],
   "source": [
    "#imporating libraries.\n",
    "import numpy as np \n",
    "import pandas as pd\n",
    "import numpy as np\n",
    "import pandas as pd\n",
    "import matplotlib.pyplot as plt\n",
    "import seaborn as sns\n",
    "from scipy import stats\n",
    "import plotly.express as px\n",
    "import plotly.graph_objs as go\n",
    "import plotly\n",
    "import plotly.graph_objects as go\n",
    "import datetime\n",
    "from sklearn.preprocessing import LabelEncoder"
   ]
  },
  {
   "cell_type": "markdown",
   "metadata": {},
   "source": [
    "DATASET OVERVIEW\n",
    "\n",
    "1. Cab_Data.csv – this file includes details of transaction for 2 cab companies\n",
    "\n",
    "1. Customer_ID.csv – this is a mapping table that contains a unique identifier which links the customer’s demographic details\n",
    "\n",
    "1. Transaction_ID.csv – this is a mapping table that contains transaction to customer mapping and payment mode\n",
    "\n",
    "1. City.csv – this file contains list of US cities, their population and number of cab users"
   ]
  },
  {
   "cell_type": "markdown",
   "metadata": {},
   "source": [
    "* Transaction ID- a unique identifier for each transaction \n",
    "* Date of Travel- the date the ride occurred\n",
    "* Company- the name of the company that supplied the cab for the travel\n",
    "\n",
    "* KM Travelled- the distance travelled by cab in kilometres.\n",
    "\n",
    "* Price Charged- the price charged to the consumer for the ride.\n",
    "\n",
    "* Cost of Trip- the real cost of the trip (no profit or loss is added)"
   ]
  },
  {
   "cell_type": "markdown",
   "metadata": {},
   "source": [
    "CAB DATASET\n"
   ]
  },
  {
   "cell_type": "code",
   "execution_count": 35,
   "metadata": {},
   "outputs": [],
   "source": [
    "cabdata = pd.read_csv('Cab_Data.csv')"
   ]
  },
  {
   "cell_type": "code",
   "execution_count": 36,
   "metadata": {},
   "outputs": [
    {
     "name": "stdout",
     "output_type": "stream",
     "text": [
      "CabData dataset has 359392 entries , 7 features and 0 missing values\n",
      "\n",
      "Feature's datatypes\n",
      "\n",
      "Transaction ID      int64\n",
      "Date of Travel     object\n",
      "Company            object\n",
      "City               object\n",
      "KM Travelled      float64\n",
      "Price Charged     float64\n",
      "Cost of Trip      float64\n",
      "dtype: object\n"
     ]
    },
    {
     "data": {
      "text/html": [
       "<div>\n",
       "<style scoped>\n",
       "    .dataframe tbody tr th:only-of-type {\n",
       "        vertical-align: middle;\n",
       "    }\n",
       "\n",
       "    .dataframe tbody tr th {\n",
       "        vertical-align: top;\n",
       "    }\n",
       "\n",
       "    .dataframe thead th {\n",
       "        text-align: right;\n",
       "    }\n",
       "</style>\n",
       "<table border=\"1\" class=\"dataframe\">\n",
       "  <thead>\n",
       "    <tr style=\"text-align: right;\">\n",
       "      <th></th>\n",
       "      <th>Transaction ID</th>\n",
       "      <th>Date of Travel</th>\n",
       "      <th>Company</th>\n",
       "      <th>City</th>\n",
       "      <th>KM Travelled</th>\n",
       "      <th>Price Charged</th>\n",
       "      <th>Cost of Trip</th>\n",
       "    </tr>\n",
       "  </thead>\n",
       "  <tbody>\n",
       "    <tr>\n",
       "      <th>0</th>\n",
       "      <td>10000011</td>\n",
       "      <td>08-01-2016</td>\n",
       "      <td>Pink Cab</td>\n",
       "      <td>ATLANTA GA</td>\n",
       "      <td>30.45</td>\n",
       "      <td>370.95</td>\n",
       "      <td>313.635</td>\n",
       "    </tr>\n",
       "    <tr>\n",
       "      <th>1</th>\n",
       "      <td>10000012</td>\n",
       "      <td>06-01-2016</td>\n",
       "      <td>Pink Cab</td>\n",
       "      <td>ATLANTA GA</td>\n",
       "      <td>28.62</td>\n",
       "      <td>358.52</td>\n",
       "      <td>334.854</td>\n",
       "    </tr>\n",
       "    <tr>\n",
       "      <th>2</th>\n",
       "      <td>10000013</td>\n",
       "      <td>02-01-2016</td>\n",
       "      <td>Pink Cab</td>\n",
       "      <td>ATLANTA GA</td>\n",
       "      <td>9.04</td>\n",
       "      <td>125.20</td>\n",
       "      <td>97.632</td>\n",
       "    </tr>\n",
       "    <tr>\n",
       "      <th>3</th>\n",
       "      <td>10000014</td>\n",
       "      <td>07-01-2016</td>\n",
       "      <td>Pink Cab</td>\n",
       "      <td>ATLANTA GA</td>\n",
       "      <td>33.17</td>\n",
       "      <td>377.40</td>\n",
       "      <td>351.602</td>\n",
       "    </tr>\n",
       "    <tr>\n",
       "      <th>4</th>\n",
       "      <td>10000015</td>\n",
       "      <td>03-01-2016</td>\n",
       "      <td>Pink Cab</td>\n",
       "      <td>ATLANTA GA</td>\n",
       "      <td>8.73</td>\n",
       "      <td>114.62</td>\n",
       "      <td>97.776</td>\n",
       "    </tr>\n",
       "    <tr>\n",
       "      <th>5</th>\n",
       "      <td>10000016</td>\n",
       "      <td>07-01-2016</td>\n",
       "      <td>Pink Cab</td>\n",
       "      <td>ATLANTA GA</td>\n",
       "      <td>6.06</td>\n",
       "      <td>72.43</td>\n",
       "      <td>63.024</td>\n",
       "    </tr>\n",
       "    <tr>\n",
       "      <th>6</th>\n",
       "      <td>10000017</td>\n",
       "      <td>03-01-2016</td>\n",
       "      <td>Pink Cab</td>\n",
       "      <td>AUSTIN TX</td>\n",
       "      <td>44.00</td>\n",
       "      <td>576.15</td>\n",
       "      <td>475.200</td>\n",
       "    </tr>\n",
       "    <tr>\n",
       "      <th>7</th>\n",
       "      <td>10000018</td>\n",
       "      <td>07-01-2016</td>\n",
       "      <td>Pink Cab</td>\n",
       "      <td>AUSTIN TX</td>\n",
       "      <td>35.65</td>\n",
       "      <td>466.10</td>\n",
       "      <td>377.890</td>\n",
       "    </tr>\n",
       "    <tr>\n",
       "      <th>8</th>\n",
       "      <td>10000019</td>\n",
       "      <td>12-01-2016</td>\n",
       "      <td>Pink Cab</td>\n",
       "      <td>BOSTON MA</td>\n",
       "      <td>14.40</td>\n",
       "      <td>191.61</td>\n",
       "      <td>146.880</td>\n",
       "    </tr>\n",
       "    <tr>\n",
       "      <th>9</th>\n",
       "      <td>10000020</td>\n",
       "      <td>06-01-2016</td>\n",
       "      <td>Pink Cab</td>\n",
       "      <td>BOSTON MA</td>\n",
       "      <td>10.89</td>\n",
       "      <td>156.98</td>\n",
       "      <td>113.256</td>\n",
       "    </tr>\n",
       "  </tbody>\n",
       "</table>\n",
       "</div>"
      ],
      "text/plain": [
       "   Transaction ID Date of Travel   Company        City  KM Travelled  \\\n",
       "0        10000011     08-01-2016  Pink Cab  ATLANTA GA         30.45   \n",
       "1        10000012     06-01-2016  Pink Cab  ATLANTA GA         28.62   \n",
       "2        10000013     02-01-2016  Pink Cab  ATLANTA GA          9.04   \n",
       "3        10000014     07-01-2016  Pink Cab  ATLANTA GA         33.17   \n",
       "4        10000015     03-01-2016  Pink Cab  ATLANTA GA          8.73   \n",
       "5        10000016     07-01-2016  Pink Cab  ATLANTA GA          6.06   \n",
       "6        10000017     03-01-2016  Pink Cab   AUSTIN TX         44.00   \n",
       "7        10000018     07-01-2016  Pink Cab   AUSTIN TX         35.65   \n",
       "8        10000019     12-01-2016  Pink Cab   BOSTON MA         14.40   \n",
       "9        10000020     06-01-2016  Pink Cab   BOSTON MA         10.89   \n",
       "\n",
       "   Price Charged  Cost of Trip  \n",
       "0         370.95       313.635  \n",
       "1         358.52       334.854  \n",
       "2         125.20        97.632  \n",
       "3         377.40       351.602  \n",
       "4         114.62        97.776  \n",
       "5          72.43        63.024  \n",
       "6         576.15       475.200  \n",
       "7         466.10       377.890  \n",
       "8         191.61       146.880  \n",
       "9         156.98       113.256  "
      ]
     },
     "execution_count": 36,
     "metadata": {},
     "output_type": "execute_result"
    }
   ],
   "source": [
    "#missing value\n",
    "missing_val = 0\n",
    "for column in cabdata.columns :\n",
    "    missing_val += cabdata[column].isna().sum() + cabdata[column].isnull().sum()\n",
    "print('CabData dataset has {} entries , {} features and {} missing values'.format(cabdata.shape[0] ,cabdata.shape[1] ,missing_val))\n",
    "print(\"\\nFeature's datatypes\\n\\n{}\".format(cabdata.dtypes))\n",
    "cabdata.head(10)"
   ]
  },
  {
   "cell_type": "code",
   "execution_count": 37,
   "metadata": {},
   "outputs": [
    {
     "name": "stdout",
     "output_type": "stream",
     "text": [
      "citydata dataset has 20 entries , 3 features and 0 missing values\n",
      "\n",
      "Feature's datatypes\n",
      "\n",
      "City          object\n",
      "Population    object\n",
      "Users         object\n",
      "dtype: object\n"
     ]
    },
    {
     "data": {
      "text/html": [
       "<div>\n",
       "<style scoped>\n",
       "    .dataframe tbody tr th:only-of-type {\n",
       "        vertical-align: middle;\n",
       "    }\n",
       "\n",
       "    .dataframe tbody tr th {\n",
       "        vertical-align: top;\n",
       "    }\n",
       "\n",
       "    .dataframe thead th {\n",
       "        text-align: right;\n",
       "    }\n",
       "</style>\n",
       "<table border=\"1\" class=\"dataframe\">\n",
       "  <thead>\n",
       "    <tr style=\"text-align: right;\">\n",
       "      <th></th>\n",
       "      <th>City</th>\n",
       "      <th>Population</th>\n",
       "      <th>Users</th>\n",
       "    </tr>\n",
       "  </thead>\n",
       "  <tbody>\n",
       "    <tr>\n",
       "      <th>0</th>\n",
       "      <td>NEW YORK NY</td>\n",
       "      <td>8,405,837</td>\n",
       "      <td>302,149</td>\n",
       "    </tr>\n",
       "    <tr>\n",
       "      <th>1</th>\n",
       "      <td>CHICAGO IL</td>\n",
       "      <td>1,955,130</td>\n",
       "      <td>164,468</td>\n",
       "    </tr>\n",
       "    <tr>\n",
       "      <th>2</th>\n",
       "      <td>LOS ANGELES CA</td>\n",
       "      <td>1,595,037</td>\n",
       "      <td>144,132</td>\n",
       "    </tr>\n",
       "    <tr>\n",
       "      <th>3</th>\n",
       "      <td>MIAMI FL</td>\n",
       "      <td>1,339,155</td>\n",
       "      <td>17,675</td>\n",
       "    </tr>\n",
       "    <tr>\n",
       "      <th>4</th>\n",
       "      <td>SILICON VALLEY</td>\n",
       "      <td>1,177,609</td>\n",
       "      <td>27,247</td>\n",
       "    </tr>\n",
       "    <tr>\n",
       "      <th>5</th>\n",
       "      <td>ORANGE COUNTY</td>\n",
       "      <td>1,030,185</td>\n",
       "      <td>12,994</td>\n",
       "    </tr>\n",
       "    <tr>\n",
       "      <th>6</th>\n",
       "      <td>SAN DIEGO CA</td>\n",
       "      <td>959,307</td>\n",
       "      <td>69,995</td>\n",
       "    </tr>\n",
       "    <tr>\n",
       "      <th>7</th>\n",
       "      <td>PHOENIX AZ</td>\n",
       "      <td>943,999</td>\n",
       "      <td>6,133</td>\n",
       "    </tr>\n",
       "    <tr>\n",
       "      <th>8</th>\n",
       "      <td>DALLAS TX</td>\n",
       "      <td>942,908</td>\n",
       "      <td>22,157</td>\n",
       "    </tr>\n",
       "    <tr>\n",
       "      <th>9</th>\n",
       "      <td>ATLANTA GA</td>\n",
       "      <td>814,885</td>\n",
       "      <td>24,701</td>\n",
       "    </tr>\n",
       "  </tbody>\n",
       "</table>\n",
       "</div>"
      ],
      "text/plain": [
       "             City   Population      Users\n",
       "0     NEW YORK NY   8,405,837    302,149 \n",
       "1      CHICAGO IL   1,955,130    164,468 \n",
       "2  LOS ANGELES CA   1,595,037    144,132 \n",
       "3        MIAMI FL   1,339,155     17,675 \n",
       "4  SILICON VALLEY   1,177,609     27,247 \n",
       "5   ORANGE COUNTY   1,030,185     12,994 \n",
       "6    SAN DIEGO CA     959,307     69,995 \n",
       "7      PHOENIX AZ     943,999      6,133 \n",
       "8       DALLAS TX     942,908     22,157 \n",
       "9      ATLANTA GA     814,885     24,701 "
      ]
     },
     "execution_count": 37,
     "metadata": {},
     "output_type": "execute_result"
    }
   ],
   "source": [
    "citydata = pd.read_csv('City.csv')\n",
    "missing_val = 0\n",
    "for column in citydata.columns :\n",
    "    missing_val += citydata[column].isna().sum() + citydata[column].isnull().sum()\n",
    "print('citydata dataset has {} entries , {} features and {} missing values'.format(citydata.shape[0] ,citydata.shape[1] ,missing_val))\n",
    "print(\"\\nFeature's datatypes\\n\\n{}\".format(citydata.dtypes))\n",
    "citydata.head(10)"
   ]
  },
  {
   "cell_type": "code",
   "execution_count": 38,
   "metadata": {},
   "outputs": [
    {
     "name": "stdout",
     "output_type": "stream",
     "text": [
      "Custdata dataset has 49171 entries , 4 features and 0 missing values\n",
      "\n",
      "Feature's datatypes\n",
      "\n",
      "Customer ID            int64\n",
      "Gender                object\n",
      "Age                    int64\n",
      "Income (USD/Month)     int64\n",
      "dtype: object\n"
     ]
    },
    {
     "data": {
      "text/html": [
       "<div>\n",
       "<style scoped>\n",
       "    .dataframe tbody tr th:only-of-type {\n",
       "        vertical-align: middle;\n",
       "    }\n",
       "\n",
       "    .dataframe tbody tr th {\n",
       "        vertical-align: top;\n",
       "    }\n",
       "\n",
       "    .dataframe thead th {\n",
       "        text-align: right;\n",
       "    }\n",
       "</style>\n",
       "<table border=\"1\" class=\"dataframe\">\n",
       "  <thead>\n",
       "    <tr style=\"text-align: right;\">\n",
       "      <th></th>\n",
       "      <th>Customer ID</th>\n",
       "      <th>Gender</th>\n",
       "      <th>Age</th>\n",
       "      <th>Income (USD/Month)</th>\n",
       "    </tr>\n",
       "  </thead>\n",
       "  <tbody>\n",
       "    <tr>\n",
       "      <th>0</th>\n",
       "      <td>29290</td>\n",
       "      <td>Male</td>\n",
       "      <td>28</td>\n",
       "      <td>10813</td>\n",
       "    </tr>\n",
       "    <tr>\n",
       "      <th>1</th>\n",
       "      <td>27703</td>\n",
       "      <td>Male</td>\n",
       "      <td>27</td>\n",
       "      <td>9237</td>\n",
       "    </tr>\n",
       "    <tr>\n",
       "      <th>2</th>\n",
       "      <td>28712</td>\n",
       "      <td>Male</td>\n",
       "      <td>53</td>\n",
       "      <td>11242</td>\n",
       "    </tr>\n",
       "    <tr>\n",
       "      <th>3</th>\n",
       "      <td>28020</td>\n",
       "      <td>Male</td>\n",
       "      <td>23</td>\n",
       "      <td>23327</td>\n",
       "    </tr>\n",
       "    <tr>\n",
       "      <th>4</th>\n",
       "      <td>27182</td>\n",
       "      <td>Male</td>\n",
       "      <td>33</td>\n",
       "      <td>8536</td>\n",
       "    </tr>\n",
       "    <tr>\n",
       "      <th>5</th>\n",
       "      <td>27318</td>\n",
       "      <td>Male</td>\n",
       "      <td>25</td>\n",
       "      <td>13984</td>\n",
       "    </tr>\n",
       "    <tr>\n",
       "      <th>6</th>\n",
       "      <td>33788</td>\n",
       "      <td>Male</td>\n",
       "      <td>23</td>\n",
       "      <td>23788</td>\n",
       "    </tr>\n",
       "    <tr>\n",
       "      <th>7</th>\n",
       "      <td>34106</td>\n",
       "      <td>Male</td>\n",
       "      <td>19</td>\n",
       "      <td>19980</td>\n",
       "    </tr>\n",
       "    <tr>\n",
       "      <th>8</th>\n",
       "      <td>59799</td>\n",
       "      <td>Male</td>\n",
       "      <td>33</td>\n",
       "      <td>19271</td>\n",
       "    </tr>\n",
       "    <tr>\n",
       "      <th>9</th>\n",
       "      <td>57982</td>\n",
       "      <td>Male</td>\n",
       "      <td>57</td>\n",
       "      <td>5068</td>\n",
       "    </tr>\n",
       "  </tbody>\n",
       "</table>\n",
       "</div>"
      ],
      "text/plain": [
       "   Customer ID Gender  Age  Income (USD/Month)\n",
       "0        29290   Male   28               10813\n",
       "1        27703   Male   27                9237\n",
       "2        28712   Male   53               11242\n",
       "3        28020   Male   23               23327\n",
       "4        27182   Male   33                8536\n",
       "5        27318   Male   25               13984\n",
       "6        33788   Male   23               23788\n",
       "7        34106   Male   19               19980\n",
       "8        59799   Male   33               19271\n",
       "9        57982   Male   57                5068"
      ]
     },
     "execution_count": 38,
     "metadata": {},
     "output_type": "execute_result"
    }
   ],
   "source": [
    "Custdata = pd.read_csv('Customer_ID.csv')\n",
    "missing_val = 0\n",
    "for column in Custdata.columns :\n",
    "    missing_val += Custdata[column].isna().sum() + Custdata[column].isnull().sum()\n",
    "print('Custdata dataset has {} entries , {} features and {} missing values'.format(Custdata.shape[0] ,Custdata.shape[1] ,missing_val))\n",
    "print(\"\\nFeature's datatypes\\n\\n{}\".format(Custdata.dtypes))\n",
    "Custdata.head(10)"
   ]
  },
  {
   "cell_type": "code",
   "execution_count": 39,
   "metadata": {},
   "outputs": [
    {
     "name": "stdout",
     "output_type": "stream",
     "text": [
      "Transcdata dataset has 440098 entries , 3 features and 0 missing values\n",
      "\n",
      "Feature's datatypes\n",
      "\n",
      "Transaction ID     int64\n",
      "Customer ID        int64\n",
      "Payment_Mode      object\n",
      "dtype: object\n"
     ]
    },
    {
     "data": {
      "text/html": [
       "<div>\n",
       "<style scoped>\n",
       "    .dataframe tbody tr th:only-of-type {\n",
       "        vertical-align: middle;\n",
       "    }\n",
       "\n",
       "    .dataframe tbody tr th {\n",
       "        vertical-align: top;\n",
       "    }\n",
       "\n",
       "    .dataframe thead th {\n",
       "        text-align: right;\n",
       "    }\n",
       "</style>\n",
       "<table border=\"1\" class=\"dataframe\">\n",
       "  <thead>\n",
       "    <tr style=\"text-align: right;\">\n",
       "      <th></th>\n",
       "      <th>Transaction ID</th>\n",
       "      <th>Customer ID</th>\n",
       "      <th>Payment_Mode</th>\n",
       "    </tr>\n",
       "  </thead>\n",
       "  <tbody>\n",
       "    <tr>\n",
       "      <th>0</th>\n",
       "      <td>10000011</td>\n",
       "      <td>29290</td>\n",
       "      <td>Card</td>\n",
       "    </tr>\n",
       "    <tr>\n",
       "      <th>1</th>\n",
       "      <td>10000012</td>\n",
       "      <td>27703</td>\n",
       "      <td>Card</td>\n",
       "    </tr>\n",
       "    <tr>\n",
       "      <th>2</th>\n",
       "      <td>10000013</td>\n",
       "      <td>28712</td>\n",
       "      <td>Cash</td>\n",
       "    </tr>\n",
       "    <tr>\n",
       "      <th>3</th>\n",
       "      <td>10000014</td>\n",
       "      <td>28020</td>\n",
       "      <td>Cash</td>\n",
       "    </tr>\n",
       "    <tr>\n",
       "      <th>4</th>\n",
       "      <td>10000015</td>\n",
       "      <td>27182</td>\n",
       "      <td>Card</td>\n",
       "    </tr>\n",
       "    <tr>\n",
       "      <th>5</th>\n",
       "      <td>10000016</td>\n",
       "      <td>27318</td>\n",
       "      <td>Cash</td>\n",
       "    </tr>\n",
       "    <tr>\n",
       "      <th>6</th>\n",
       "      <td>10000017</td>\n",
       "      <td>33788</td>\n",
       "      <td>Card</td>\n",
       "    </tr>\n",
       "    <tr>\n",
       "      <th>7</th>\n",
       "      <td>10000018</td>\n",
       "      <td>34106</td>\n",
       "      <td>Card</td>\n",
       "    </tr>\n",
       "    <tr>\n",
       "      <th>8</th>\n",
       "      <td>10000019</td>\n",
       "      <td>59799</td>\n",
       "      <td>Cash</td>\n",
       "    </tr>\n",
       "    <tr>\n",
       "      <th>9</th>\n",
       "      <td>10000020</td>\n",
       "      <td>57982</td>\n",
       "      <td>Cash</td>\n",
       "    </tr>\n",
       "  </tbody>\n",
       "</table>\n",
       "</div>"
      ],
      "text/plain": [
       "   Transaction ID  Customer ID Payment_Mode\n",
       "0        10000011        29290         Card\n",
       "1        10000012        27703         Card\n",
       "2        10000013        28712         Cash\n",
       "3        10000014        28020         Cash\n",
       "4        10000015        27182         Card\n",
       "5        10000016        27318         Cash\n",
       "6        10000017        33788         Card\n",
       "7        10000018        34106         Card\n",
       "8        10000019        59799         Cash\n",
       "9        10000020        57982         Cash"
      ]
     },
     "execution_count": 39,
     "metadata": {},
     "output_type": "execute_result"
    }
   ],
   "source": [
    "Transcdata = pd.read_csv('Transaction_ID.csv')\n",
    "missing_val = 0\n",
    "for column in Transcdata.columns :\n",
    "    missing_val += Transcdata[column].isna().sum() + Transcdata[column].isnull().sum()\n",
    "print('Transcdata dataset has {} entries , {} features and {} missing values'.format(Transcdata.shape[0] ,Transcdata.shape[1] ,missing_val))\n",
    "print(\"\\nFeature's datatypes\\n\\n{}\".format(Transcdata.dtypes))\n",
    "Transcdata.head(10)"
   ]
  },
  {
   "cell_type": "code",
   "execution_count": 40,
   "metadata": {},
   "outputs": [],
   "source": [
    "for col in cabdata.columns:\n",
    "    if ' ' in col:\n",
    "        cabdata = cabdata.rename(columns={col:col.replace(' ','_')})\n",
    "for col in Custdata.columns:\n",
    "    if ' ' in col:\n",
    "        Custdata = Custdata.rename(columns={col:col.replace(' ','_')})\n",
    "for col in citydata.columns:\n",
    "    if ' ' in col:\n",
    "        citydata = citydata.rename(columns={col:col.replace(' ','_')})\n",
    "for col in Transcdata.columns:\n",
    "    if ' ' in col:\n",
    "        Transcdata = Transcdata.rename(columns={col:col.replace(' ','_')})"
   ]
  },
  {
   "cell_type": "code",
   "execution_count": 41,
   "metadata": {},
   "outputs": [],
   "source": [
    "datasets = [cabdata, citydata, Custdata, Transcdata]\n",
    "datasets_name = ['Cab', 'City', 'Customer', 'Transaction']"
   ]
  },
  {
   "cell_type": "code",
   "execution_count": 42,
   "metadata": {},
   "outputs": [],
   "source": [
    "def divided_plot(dataset, title, x, x_label, color):\n",
    "    plt.figure(figsize=(14,6))\n",
    "    ax=sns.histplot(data = dataset, x=x,bins=40, color= color)\n",
    "    plt.title(title)\n",
    "    plt.ylabel('Frequency')\n",
    "    plt.xlabel(x_label)\n",
    "\n",
    "\n",
    "def data_call(dataset, name):\n",
    "    print(f'For DataSet :{name}')\n",
    "    print(f'-------------//Shape of dataset- {name} ')\n",
    "    print(dataset.shape)\n",
    "    print(f'-------------//Columns in dataset- {name} ')\n",
    "    print(dataset.columns)\n",
    "    print(f'-------------//Info for dataset- {name} ')\n",
    "    print(dataset.info())\n",
    "    print(f'-------------//Null Values for dataset- {name}')\n",
    "    print(dataset.isnull().sum())\n",
    "    print(f'-------------//Description of dataset- {name}')\n",
    "    print(dataset.describe())\n",
    "    print('*******')\n",
    "   \n",
    "    \n",
    "    \n",
    "def plot(group, title):\n",
    "    plt.figure(figsize=(14,6))\n",
    "    sns.barplot(x=group.index,y=group.values)     \n",
    "    plt.title(title)\n",
    "    plt.xticks(rotation=45)\n",
    "    plt.show()\n",
    "    \n"
   ]
  },
  {
   "cell_type": "code",
   "execution_count": 43,
   "metadata": {},
   "outputs": [
    {
     "name": "stdout",
     "output_type": "stream",
     "text": [
      "For DataSet :Cab Dataset\n",
      "-------------//Shape of dataset- Cab Dataset \n",
      "(359392, 7)\n",
      "-------------//Columns in dataset- Cab Dataset \n",
      "Index(['Transaction_ID', 'Date_of_Travel', 'Company', 'City', 'KM_Travelled',\n",
      "       'Price_Charged', 'Cost_of_Trip'],\n",
      "      dtype='object')\n",
      "-------------//Info for dataset- Cab Dataset \n",
      "<class 'pandas.core.frame.DataFrame'>\n",
      "RangeIndex: 359392 entries, 0 to 359391\n",
      "Data columns (total 7 columns):\n",
      " #   Column          Non-Null Count   Dtype  \n",
      "---  ------          --------------   -----  \n",
      " 0   Transaction_ID  359392 non-null  int64  \n",
      " 1   Date_of_Travel  359392 non-null  object \n",
      " 2   Company         359392 non-null  object \n",
      " 3   City            359392 non-null  object \n",
      " 4   KM_Travelled    359392 non-null  float64\n",
      " 5   Price_Charged   359392 non-null  float64\n",
      " 6   Cost_of_Trip    359392 non-null  float64\n",
      "dtypes: float64(3), int64(1), object(3)\n",
      "memory usage: 19.2+ MB\n",
      "None\n",
      "-------------//Null Values for dataset- Cab Dataset\n",
      "Transaction_ID    0\n",
      "Date_of_Travel    0\n",
      "Company           0\n",
      "City              0\n",
      "KM_Travelled      0\n",
      "Price_Charged     0\n",
      "Cost_of_Trip      0\n",
      "dtype: int64\n",
      "-------------//Description of dataset- Cab Dataset\n",
      "       Transaction_ID   KM_Travelled  Price_Charged   Cost_of_Trip\n",
      "count    3.593920e+05  359392.000000  359392.000000  359392.000000\n",
      "mean     1.022076e+07      22.567254     423.443311     286.190113\n",
      "std      1.268058e+05      12.233526     274.378911     157.993661\n",
      "min      1.000001e+07       1.900000      15.600000      19.000000\n",
      "25%      1.011081e+07      12.000000     206.437500     151.200000\n",
      "50%      1.022104e+07      22.440000     386.360000     282.480000\n",
      "75%      1.033094e+07      32.960000     583.660000     413.683200\n",
      "max      1.044011e+07      48.000000    2048.030000     691.200000\n",
      "*******\n"
     ]
    }
   ],
   "source": [
    "data_call(cabdata, 'Cab Dataset')"
   ]
  },
  {
   "cell_type": "code",
   "execution_count": 44,
   "metadata": {},
   "outputs": [],
   "source": [
    "cabdata['Date_of_Travel'] = pd.to_datetime(cabdata['Date_of_Travel'])\n",
    "cabdata['Year'] = cabdata['Date_of_Travel'].dt.year \n",
    "cabdata['Month'] = cabdata['Date_of_Travel'].dt.month \n",
    "\n",
    "cabdata = cabdata.drop(['Date_of_Travel'], axis =1 )\n",
    "\n",
    "cabdata['Profit'] = cabdata['Price_Charged'] - cabdata['Cost_of_Trip'] \n",
    "cabdata['ProfitPercentage'] = ((cabdata['Price_Charged'] - cabdata['Cost_of_Trip'])/cabdata['Cost_of_Trip'])*100"
   ]
  },
  {
   "cell_type": "code",
   "execution_count": 45,
   "metadata": {},
   "outputs": [],
   "source": [
    "cabdata.replace([np.inf, -np.inf], np.nan)\n",
    "cabdata['Profit_per_KM'] = cabdata['Profit']/ cabdata['KM_Travelled']\n"
   ]
  },
  {
   "cell_type": "code",
   "execution_count": 46,
   "metadata": {},
   "outputs": [],
   "source": [
    "months = cabdata.groupby(['Month']).Transaction_ID.count()\n",
    "years = cabdata.groupby(['Year']).Transaction_ID.count()\n",
    "cab_company = cabdata.groupby(['Company']).Transaction_ID.count()\n",
    "city = cabdata.groupby(['City']).Transaction_ID.count()"
   ]
  },
  {
   "cell_type": "code",
   "execution_count": 47,
   "metadata": {},
   "outputs": [
    {
     "data": {
      "image/png": "[encoded data removed]",
      "text/plain": [
       "<Figure size 1008x432 with 1 Axes>"
      ]
     },
     "metadata": {
      "needs_background": "light"
     },
     "output_type": "display_data"
    },
    {
     "data": {
      "image/png": "[encoded data removed]",
      "text/plain": [
       "<Figure size 1008x432 with 1 Axes>"
      ]
     },
     "metadata": {
      "needs_background": "light"
     },
     "output_type": "display_data"
    },
    {
     "data": {
      "image/png": "[encoded data removed]",
      "text/plain": [
       "<Figure size 1008x432 with 1 Axes>"
      ]
     },
     "metadata": {
      "needs_background": "light"
     },
     "output_type": "display_data"
    },
    {
     "data": {
      "image/png": "[encoded data removed]",
      "text/plain": [
       "<Figure size 1008x432 with 1 Axes>"
      ]
     },
     "metadata": {
      "needs_background": "light"
     },
     "output_type": "display_data"
    }
   ],
   "source": [
    "groups = [cab_company, months, years,city]\n",
    "names = ['cab_company', 'months', 'years','city']\n",
    "i=0    \n",
    "for group in groups:\n",
    "    title = 'Travel Frequency ' + names[i]\n",
    "    plot(group, title)\n",
    "    i +=1"
   ]
  },
  {
   "cell_type": "code",
   "execution_count": 48,
   "metadata": {},
   "outputs": [
    {
     "data": {
      "text/html": [
       "<div>\n",
       "<style scoped>\n",
       "    .dataframe tbody tr th:only-of-type {\n",
       "        vertical-align: middle;\n",
       "    }\n",
       "\n",
       "    .dataframe tbody tr th {\n",
       "        vertical-align: top;\n",
       "    }\n",
       "\n",
       "    .dataframe thead th {\n",
       "        text-align: right;\n",
       "    }\n",
       "</style>\n",
       "<table border=\"1\" class=\"dataframe\">\n",
       "  <thead>\n",
       "    <tr style=\"text-align: right;\">\n",
       "      <th></th>\n",
       "      <th>Transaction_ID</th>\n",
       "      <th>Company</th>\n",
       "      <th>City</th>\n",
       "      <th>KM_Travelled</th>\n",
       "      <th>Price_Charged</th>\n",
       "      <th>Cost_of_Trip</th>\n",
       "      <th>Year</th>\n",
       "      <th>Month</th>\n",
       "      <th>Profit</th>\n",
       "      <th>ProfitPercentage</th>\n",
       "      <th>Profit_per_KM</th>\n",
       "    </tr>\n",
       "  </thead>\n",
       "  <tbody>\n",
       "    <tr>\n",
       "      <th>0</th>\n",
       "      <td>10000011</td>\n",
       "      <td>Pink Cab</td>\n",
       "      <td>ATLANTA GA</td>\n",
       "      <td>30.45</td>\n",
       "      <td>370.95</td>\n",
       "      <td>313.635</td>\n",
       "      <td>2016</td>\n",
       "      <td>8</td>\n",
       "      <td>57.315</td>\n",
       "      <td>18.274427</td>\n",
       "      <td>1.882266</td>\n",
       "    </tr>\n",
       "    <tr>\n",
       "      <th>1</th>\n",
       "      <td>10000012</td>\n",
       "      <td>Pink Cab</td>\n",
       "      <td>ATLANTA GA</td>\n",
       "      <td>28.62</td>\n",
       "      <td>358.52</td>\n",
       "      <td>334.854</td>\n",
       "      <td>2016</td>\n",
       "      <td>6</td>\n",
       "      <td>23.666</td>\n",
       "      <td>7.067558</td>\n",
       "      <td>0.826904</td>\n",
       "    </tr>\n",
       "    <tr>\n",
       "      <th>2</th>\n",
       "      <td>10000013</td>\n",
       "      <td>Pink Cab</td>\n",
       "      <td>ATLANTA GA</td>\n",
       "      <td>9.04</td>\n",
       "      <td>125.20</td>\n",
       "      <td>97.632</td>\n",
       "      <td>2016</td>\n",
       "      <td>2</td>\n",
       "      <td>27.568</td>\n",
       "      <td>28.236644</td>\n",
       "      <td>3.049558</td>\n",
       "    </tr>\n",
       "    <tr>\n",
       "      <th>3</th>\n",
       "      <td>10000014</td>\n",
       "      <td>Pink Cab</td>\n",
       "      <td>ATLANTA GA</td>\n",
       "      <td>33.17</td>\n",
       "      <td>377.40</td>\n",
       "      <td>351.602</td>\n",
       "      <td>2016</td>\n",
       "      <td>7</td>\n",
       "      <td>25.798</td>\n",
       "      <td>7.337273</td>\n",
       "      <td>0.777751</td>\n",
       "    </tr>\n",
       "    <tr>\n",
       "      <th>4</th>\n",
       "      <td>10000015</td>\n",
       "      <td>Pink Cab</td>\n",
       "      <td>ATLANTA GA</td>\n",
       "      <td>8.73</td>\n",
       "      <td>114.62</td>\n",
       "      <td>97.776</td>\n",
       "      <td>2016</td>\n",
       "      <td>3</td>\n",
       "      <td>16.844</td>\n",
       "      <td>17.227131</td>\n",
       "      <td>1.929439</td>\n",
       "    </tr>\n",
       "    <tr>\n",
       "      <th>5</th>\n",
       "      <td>10000016</td>\n",
       "      <td>Pink Cab</td>\n",
       "      <td>ATLANTA GA</td>\n",
       "      <td>6.06</td>\n",
       "      <td>72.43</td>\n",
       "      <td>63.024</td>\n",
       "      <td>2016</td>\n",
       "      <td>7</td>\n",
       "      <td>9.406</td>\n",
       "      <td>14.924473</td>\n",
       "      <td>1.552145</td>\n",
       "    </tr>\n",
       "    <tr>\n",
       "      <th>6</th>\n",
       "      <td>10000017</td>\n",
       "      <td>Pink Cab</td>\n",
       "      <td>AUSTIN TX</td>\n",
       "      <td>44.00</td>\n",
       "      <td>576.15</td>\n",
       "      <td>475.200</td>\n",
       "      <td>2016</td>\n",
       "      <td>3</td>\n",
       "      <td>100.950</td>\n",
       "      <td>21.243687</td>\n",
       "      <td>2.294318</td>\n",
       "    </tr>\n",
       "    <tr>\n",
       "      <th>7</th>\n",
       "      <td>10000018</td>\n",
       "      <td>Pink Cab</td>\n",
       "      <td>AUSTIN TX</td>\n",
       "      <td>35.65</td>\n",
       "      <td>466.10</td>\n",
       "      <td>377.890</td>\n",
       "      <td>2016</td>\n",
       "      <td>7</td>\n",
       "      <td>88.210</td>\n",
       "      <td>23.342772</td>\n",
       "      <td>2.474334</td>\n",
       "    </tr>\n",
       "  </tbody>\n",
       "</table>\n",
       "</div>"
      ],
      "text/plain": [
       "   Transaction_ID   Company        City  KM_Travelled  Price_Charged  \\\n",
       "0        10000011  Pink Cab  ATLANTA GA         30.45         370.95   \n",
       "1        10000012  Pink Cab  ATLANTA GA         28.62         358.52   \n",
       "2        10000013  Pink Cab  ATLANTA GA          9.04         125.20   \n",
       "3        10000014  Pink Cab  ATLANTA GA         33.17         377.40   \n",
       "4        10000015  Pink Cab  ATLANTA GA          8.73         114.62   \n",
       "5        10000016  Pink Cab  ATLANTA GA          6.06          72.43   \n",
       "6        10000017  Pink Cab   AUSTIN TX         44.00         576.15   \n",
       "7        10000018  Pink Cab   AUSTIN TX         35.65         466.10   \n",
       "\n",
       "   Cost_of_Trip  Year  Month   Profit  ProfitPercentage  Profit_per_KM  \n",
       "0       313.635  2016      8   57.315         18.274427       1.882266  \n",
       "1       334.854  2016      6   23.666          7.067558       0.826904  \n",
       "2        97.632  2016      2   27.568         28.236644       3.049558  \n",
       "3       351.602  2016      7   25.798          7.337273       0.777751  \n",
       "4        97.776  2016      3   16.844         17.227131       1.929439  \n",
       "5        63.024  2016      7    9.406         14.924473       1.552145  \n",
       "6       475.200  2016      3  100.950         21.243687       2.294318  \n",
       "7       377.890  2016      7   88.210         23.342772       2.474334  "
      ]
     },
     "execution_count": 48,
     "metadata": {},
     "output_type": "execute_result"
    }
   ],
   "source": [
    "cabdata.head(8)"
   ]
  },
  {
   "cell_type": "code",
   "execution_count": 49,
   "metadata": {},
   "outputs": [
    {
     "data": {
      "image/png": "[encoded data removed]",
      "text/plain": [
       "<Figure size 1008x432 with 1 Axes>"
      ]
     },
     "metadata": {
      "needs_background": "light"
     },
     "output_type": "display_data"
    }
   ],
   "source": [
    "divided_plot(cabdata, 'KM travel divied_plot', 'KM_Travelled', 'KM Travelled', '#FFF033' )"
   ]
  },
  {
   "cell_type": "markdown",
   "metadata": {},
   "source": [
    "The number of rides gradually decreases after 40 kilometres."
   ]
  },
  {
   "cell_type": "code",
   "execution_count": 50,
   "metadata": {},
   "outputs": [
    {
     "data": {
      "image/png": "[encoded data removed]",
      "text/plain": [
       "<Figure size 1008x432 with 1 Axes>"
      ]
     },
     "metadata": {
      "needs_background": "light"
     },
     "output_type": "display_data"
    }
   ],
   "source": [
    "divided_plot(cabdata, 'Price Charged divied_plot', 'Price_Charged', 'Price Charged', '#33A2FF' )"
   ]
  },
  {
   "cell_type": "markdown",
   "metadata": {},
   "source": [
    "The number of rides decreases exponentially beyond 400."
   ]
  },
  {
   "cell_type": "code",
   "execution_count": 51,
   "metadata": {},
   "outputs": [
    {
     "data": {
      "image/png": "[encoded data removed]",
      "text/plain": [
       "<Figure size 1008x432 with 1 Axes>"
      ]
     },
     "metadata": {
      "needs_background": "light"
     },
     "output_type": "display_data"
    }
   ],
   "source": [
    "divided_plot(cabdata, 'Cost of Trip divided_plot', 'Cost_of_Trip', 'Cost of Trip', '#39FF33' )"
   ]
  },
  {
   "cell_type": "markdown",
   "metadata": {},
   "source": [
    "After about 420, the number of rides decreases linearly until it approaches zero around 700."
   ]
  },
  {
   "cell_type": "code",
   "execution_count": 52,
   "metadata": {},
   "outputs": [
    {
     "data": {
      "image/png": "[encoded data removed]",
      "text/plain": [
       "<Figure size 1008x432 with 1 Axes>"
      ]
     },
     "metadata": {
      "needs_background": "light"
     },
     "output_type": "display_data"
    }
   ],
   "source": [
    "divided_plot(cabdata, 'Profit per KM divided_plot', 'Profit_per_KM', 'Profit per KM', '#FF4633' )"
   ]
  },
  {
   "cell_type": "markdown",
   "metadata": {},
   "source": [
    "Profit per kilometre is tilted to the right, with a few exceptions."
   ]
  },
  {
   "cell_type": "code",
   "execution_count": 53,
   "metadata": {},
   "outputs": [
    {
     "data": {
      "image/png": "[encoded data removed]",
      "text/plain": [
       "<Figure size 432x288 with 1 Axes>"
      ]
     },
     "metadata": {
      "needs_background": "light"
     },
     "output_type": "display_data"
    },
    {
     "name": "stdout",
     "output_type": "stream",
     "text": [
      "            KM_Travelled\n",
      "Company                 \n",
      "Pink Cab       22.559917\n",
      "Yellow Cab     22.569517\n"
     ]
    }
   ],
   "source": [
    "cab1 = cabdata[[\"Company\", \"KM_Travelled\"]]\n",
    "new_df = (cab1.groupby(\"Company\").mean()).sort_values(by=\"KM_Travelled\")\n",
    "\n",
    "#visualization\n",
    "ax = new_df.plot(kind='bar',stacked = False)\n",
    "plt.show()\n",
    "print(new_df)"
   ]
  },
  {
   "cell_type": "markdown",
   "metadata": {},
   "source": [
    "Both firms have the same average number of kilometres travelled."
   ]
  },
  {
   "cell_type": "code",
   "execution_count": 54,
   "metadata": {},
   "outputs": [
    {
     "data": {
      "image/png": "[encoded data removed]",
      "text/plain": [
       "<Figure size 648x216 with 1 Axes>"
      ]
     },
     "metadata": {
      "needs_background": "light"
     },
     "output_type": "display_data"
    },
    {
     "name": "stdout",
     "output_type": "stream",
     "text": [
      "       KM_Travelled\n",
      "Month              \n",
      "5         22.405801\n",
      "9         22.527838\n",
      "8         22.537612\n",
      "6         22.554316\n",
      "3         22.555264\n",
      "2         22.569511\n",
      "4         22.581677\n",
      "10        22.593497\n",
      "11        22.597415\n",
      "1         22.603980\n",
      "12        22.604417\n",
      "7         22.653659\n"
     ]
    }
   ],
   "source": [
    "cab2 = cabdata[[\"Month\", \"KM_Travelled\"]]\n",
    "new_df2 = (cab2.groupby(\"Month\").mean()).sort_values(by=\"KM_Travelled\")\n",
    "\n",
    "#visualization\n",
    "plt.figure(figsize = (9,3))\n",
    "plt.bar(new_df2.index,new_df2[\"KM_Travelled\"])\n",
    "plt.ylabel(\"KM\")\n",
    "plt.title(\"Avarage Trip Long\")\n",
    "plt.show()\n",
    "\n",
    "print(new_df2)"
   ]
  },
  {
   "cell_type": "code",
   "execution_count": 55,
   "metadata": {},
   "outputs": [
    {
     "data": {
      "image/png": "[encoded data removed]",
      "text/plain": [
       "<Figure size 432x288 with 1 Axes>"
      ]
     },
     "metadata": {
      "needs_background": "light"
     },
     "output_type": "display_data"
    },
    {
     "name": "stdout",
     "output_type": "stream",
     "text": [
      "Company  Pink Cab  Yellow Cab\n",
      "Year                         \n",
      "2016        25080       82239\n",
      "2017        30321       98189\n",
      "2018        29310       94253\n"
     ]
    }
   ],
   "source": [
    "total = cabdata.groupby(['Year','Company']).Transaction_ID.count().unstack()\n",
    "ax = total.plot(kind='bar',stacked = False)\n",
    "plt.show()\n",
    "print(total)"
   ]
  },
  {
   "cell_type": "markdown",
   "metadata": {},
   "source": [
    "Pink cabs provide an average of 23% of overall cab count across the three years."
   ]
  },
  {
   "cell_type": "code",
   "execution_count": 56,
   "metadata": {},
   "outputs": [
    {
     "data": {
      "image/png": "[encoded data removed]",
      "text/plain": [
       "<Figure size 432x288 with 1 Axes>"
      ]
     },
     "metadata": {
      "needs_background": "light"
     },
     "output_type": "display_data"
    },
    {
     "name": "stdout",
     "output_type": "stream",
     "text": [
      "Company  Pink Cab  Yellow Cab\n",
      "Month                        \n",
      "1            4734       17108\n",
      "2            4693       17338\n",
      "3            5724       20754\n",
      "4            5118       19077\n",
      "5            6150       21309\n",
      "6            6371       20568\n",
      "7            7048       23177\n",
      "8            8011       24027\n",
      "9            8518       25377\n",
      "10           9936       29273\n",
      "11           8679       26538\n",
      "12           9729       30135\n"
     ]
    }
   ],
   "source": [
    "Total1 = cabdata.groupby(['Month','Company']).Transaction_ID.count().unstack()\n",
    "ax = Total1.plot(kind='bar',stacked = False)\n",
    "plt.show()\n",
    "print(Total1)"
   ]
  },
  {
   "cell_type": "markdown",
   "metadata": {},
   "source": [
    "Pink Cab's percantage contribution to the number of taxis remains consistent across all months.\n"
   ]
  },
  {
   "cell_type": "code",
   "execution_count": 57,
   "metadata": {},
   "outputs": [
    {
     "data": {
      "image/png": "[encoded data removed]",
      "text/plain": [
       "<Figure size 432x288 with 1 Axes>"
      ]
     },
     "metadata": {
      "needs_background": "light"
     },
     "output_type": "display_data"
    },
    {
     "name": "stdout",
     "output_type": "stream",
     "text": [
      "Company   Pink Cab  Yellow Cab\n",
      "Year                          \n",
      "2016     27.910304   57.214209\n",
      "2017     27.319440   57.244999\n",
      "2018     21.727509   48.679429\n"
     ]
    }
   ],
   "source": [
    "total3 = cabdata.groupby(['Year','Company']).ProfitPercentage.mean().unstack()\n",
    "ax = total3.plot(kind='bar',stacked = False)\n",
    "plt.show()\n",
    "print(total3)"
   ]
  },
  {
   "cell_type": "markdown",
   "metadata": {},
   "source": [
    "Pink Cab's average profit over the last three years has been about 17-18.\n",
    "Yellow Cab's average profit over the last three years has been about 28-31."
   ]
  },
  {
   "cell_type": "code",
   "execution_count": 58,
   "metadata": {},
   "outputs": [
    {
     "data": {
      "image/png": "[encoded data removed]",
      "text/plain": [
       "<Figure size 432x288 with 1 Axes>"
      ]
     },
     "metadata": {
      "needs_background": "light"
     },
     "output_type": "display_data"
    },
    {
     "name": "stdout",
     "output_type": "stream",
     "text": [
      "Company   Pink Cab  Yellow Cab\n",
      "Month                         \n",
      "1        25.788607   58.576844\n",
      "2        27.499876   61.410604\n",
      "3        28.448711   58.920636\n",
      "4        22.125875   57.052153\n",
      "5        20.698423   65.309188\n",
      "6        21.470962   60.316722\n",
      "7        21.302683   49.538838\n",
      "8        23.070940   46.064588\n",
      "9        24.195375   54.085749\n",
      "10       27.928672   49.722187\n",
      "11       26.574888   47.300809\n",
      "12       33.371083   51.953357\n"
     ]
    }
   ],
   "source": [
    "total3 = cabdata.groupby(['Month','Company']).ProfitPercentage.mean().unstack()\n",
    "ax = total3.plot(kind='bar',stacked = False)\n",
    "plt.show()\n",
    "print(total3)"
   ]
  },
  {
   "cell_type": "markdown",
   "metadata": {},
   "source": [
    "Pink Cab's profit percentage was highest in March and December, while it was lowest in June and July.\n",
    "Yellow Cab's profit percentage was highest in May, February, and January, and lowest in August and July."
   ]
  },
  {
   "cell_type": "code",
   "execution_count": 59,
   "metadata": {},
   "outputs": [
    {
     "name": "stdout",
     "output_type": "stream",
     "text": [
      "Company   Pink Cab  Yellow Cab\n",
      "Year                          \n",
      "2016     68.321819  169.347821\n",
      "2017     67.070839  168.817057\n",
      "2018     53.229689  143.416122\n",
      "Company   Pink Cab  Yellow Cab\n",
      "Month                         \n",
      "1        25.788607   58.576844\n",
      "2        27.499876   61.410604\n",
      "3        28.448711   58.920636\n",
      "4        22.125875   57.052153\n",
      "5        20.698423   65.309188\n",
      "6        21.470962   60.316722\n",
      "7        21.302683   49.538838\n",
      "8        23.070940   46.064588\n",
      "9        24.195375   54.085749\n",
      "10       27.928672   49.722187\n",
      "11       26.574888   47.300809\n",
      "12       33.371083   51.953357\n"
     ]
    }
   ],
   "source": [
    "total = cabdata.groupby(['Year','Company']).Profit.mean().unstack()\n",
    "print(total)\n",
    "total = cabdata.groupby(['Month','Company']).ProfitPercentage.mean().unstack()\n",
    "print(total)"
   ]
  },
  {
   "cell_type": "markdown",
   "metadata": {},
   "source": [
    "Unlike Profit Percentage, Pink Cab's biggest profit average is in December and its lowest from May to July > In contrast to Profit Percentage, Yellow Cab's biggest profit average is in January and February, and its lowest in August."
   ]
  },
  {
   "cell_type": "code",
   "execution_count": 60,
   "metadata": {},
   "outputs": [
    {
     "data": {
      "image/png": "[encoded data removed]",
      "text/plain": [
       "<Figure size 1008x432 with 1 Axes>"
      ]
     },
     "metadata": {
      "needs_background": "light"
     },
     "output_type": "display_data"
    }
   ],
   "source": [
    "df = cabdata.groupby(['City', 'Company']).agg(Profit_per_KM = (\"Profit_per_KM\", 'mean'))\n",
    "df = cabdata.reset_index()\n",
    "dims = (14, 6)\n",
    "fig, ax = plt.subplots(figsize= dims)\n",
    "# plot barplot\n",
    "g = sns.barplot(x=\"City\", y=\"Profit_per_KM\", hue=\"Company\", ax=ax, data=df);\n",
    "var = g.set_xticklabels(g.get_xticklabels(), rotation=90)"
   ]
  },
  {
   "cell_type": "markdown",
   "metadata": {},
   "source": [
    "In the accompanying Profit per KM graph, New York offers the highest earnings in terms of distance for both firms.\n",
    "Dallas has the lowest profit per kilometre for Pink Cab, and Sacramento has the same for Yellow Cab."
   ]
  },
  {
   "cell_type": "code",
   "execution_count": 61,
   "metadata": {},
   "outputs": [
    {
     "data": {
      "image/png": "[encoded data removed]",
      "text/plain": [
       "<Figure size 432x288 with 1 Axes>"
      ]
     },
     "metadata": {
      "needs_background": "light"
     },
     "output_type": "display_data"
    },
    {
     "name": "stdout",
     "output_type": "stream",
     "text": [
      "Company  Pink Cab  Yellow Cab\n",
      "Year                         \n",
      "2016     3.026813    7.489847\n",
      "2017     2.962883    7.494612\n",
      "2018     2.350447    6.364805\n"
     ]
    },
    {
     "data": {
      "image/png": "[encoded data removed]",
      "text/plain": [
       "<Figure size 432x288 with 1 Axes>"
      ]
     },
     "metadata": {
      "needs_background": "light"
     },
     "output_type": "display_data"
    },
    {
     "name": "stdout",
     "output_type": "stream",
     "text": [
      "Company  Pink Cab  Yellow Cab\n",
      "Month                        \n",
      "1        2.793438    7.665865\n",
      "2        2.979268    8.044605\n",
      "3        3.092925    7.714993\n",
      "4        2.393796    7.466042\n",
      "5        2.234797    8.552041\n",
      "6        2.320152    7.897677\n",
      "7        2.303050    6.478925\n",
      "8        2.496543    6.022029\n",
      "9        2.620842    7.080664\n",
      "10       3.024953    6.504155\n",
      "11       2.884635    6.183048\n",
      "12       3.629052    6.798749\n"
     ]
    }
   ],
   "source": [
    "counts = cabdata.groupby(['Year','Company']).Profit_per_KM.mean().unstack()\n",
    "ax = counts.plot(kind='bar',stacked = False)\n",
    "plt.show()\n",
    "print(counts)\n",
    "\n",
    "counts = cabdata.groupby(['Month','Company']).Profit_per_KM.mean().unstack()\n",
    "ax = counts.plot(kind='bar',stacked = False)\n",
    "plt.show()\n",
    "print(counts)"
   ]
  },
  {
   "cell_type": "markdown",
   "metadata": {},
   "source": [
    "The average distance travelled remains constant throughout the course of three years and about 12 months."
   ]
  },
  {
   "cell_type": "markdown",
   "metadata": {},
   "source": [
    "### Customer_ID\n",
    "\n",
    "1. Customer ID = A unique identifier number assigned to each passenger.\n",
    "1. Gender = Each passenger's gender (Male/Female)\n",
    "1. Age = Each passenger's age\n",
    "1. Income (USD/Month) = Amount of money for each passenger"
   ]
  },
  {
   "cell_type": "code",
   "execution_count": 62,
   "metadata": {},
   "outputs": [],
   "source": [
    "Custdata = Custdata.rename(columns={'Income_(USD/Month)': 'Monthly_income'})"
   ]
  },
  {
   "cell_type": "code",
   "execution_count": 64,
   "metadata": {},
   "outputs": [
    {
     "name": "stdout",
     "output_type": "stream",
     "text": [
      "For DataSet :Customer Dataset\n",
      "-------------//Shape of dataset- Customer Dataset \n",
      "(49171, 4)\n",
      "-------------//Columns in dataset- Customer Dataset \n",
      "Index(['Customer_ID', 'Gender', 'Age', 'Monthly_income'], dtype='object')\n",
      "-------------//Info for dataset- Customer Dataset \n",
      "<class 'pandas.core.frame.DataFrame'>\n",
      "RangeIndex: 49171 entries, 0 to 49170\n",
      "Data columns (total 4 columns):\n",
      " #   Column          Non-Null Count  Dtype \n",
      "---  ------          --------------  ----- \n",
      " 0   Customer_ID     49171 non-null  int64 \n",
      " 1   Gender          49171 non-null  object\n",
      " 2   Age             49171 non-null  int64 \n",
      " 3   Monthly_income  49171 non-null  int64 \n",
      "dtypes: int64(3), object(1)\n",
      "memory usage: 1.5+ MB\n",
      "None\n",
      "-------------//Null Values for dataset- Customer Dataset\n",
      "Customer_ID       0\n",
      "Gender            0\n",
      "Age               0\n",
      "Monthly_income    0\n",
      "dtype: int64\n",
      "-------------//Description of dataset- Customer Dataset\n",
      "        Customer_ID           Age  Monthly_income\n",
      "count  49171.000000  49171.000000    49171.000000\n",
      "mean   28398.252283     35.363121    15015.631856\n",
      "std    17714.137333     12.599066     8002.208253\n",
      "min        1.000000     18.000000     2000.000000\n",
      "25%    12654.500000     25.000000     8289.500000\n",
      "50%    27631.000000     33.000000    14656.000000\n",
      "75%    43284.500000     42.000000    21035.000000\n",
      "max    60000.000000     65.000000    35000.000000\n",
      "*******\n"
     ]
    }
   ],
   "source": [
    "data_call(Custdata, 'Customer Dataset')"
   ]
  },
  {
   "cell_type": "code",
   "execution_count": 66,
   "metadata": {},
   "outputs": [
    {
     "data": {
      "image/png": "[encoded data removed]",
      "text/plain": [
       "<Figure size 1008x432 with 1 Axes>"
      ]
     },
     "metadata": {
      "needs_background": "light"
     },
     "output_type": "display_data"
    }
   ],
   "source": [
    "group = Custdata.groupby(['Gender']).Customer_ID.count()\n",
    "plot(group, 'gender based division')"
   ]
  },
  {
   "cell_type": "markdown",
   "metadata": {},
   "source": [
    "We have a higher proportion of male passengers/customers."
   ]
  },
  {
   "cell_type": "code",
   "execution_count": 68,
   "metadata": {},
   "outputs": [
    {
     "data": {
      "image/png": "[encoded data removed]",
      "text/plain": [
       "<Figure size 1008x432 with 1 Axes>"
      ]
     },
     "metadata": {
      "needs_background": "light"
     },
     "output_type": "display_data"
    }
   ],
   "source": [
    "\n",
    "divided_plot(Custdata, 'Age Distribution', 'Age', 'Age', '#FF4633' )\n",
    "age = Custdata.groupby(['Age']).Customer_ID.count()\n"
   ]
  },
  {
   "cell_type": "code",
   "execution_count": 69,
   "metadata": {},
   "outputs": [
    {
     "data": {
      "image/png": "[encoded data removed]",
      "text/plain": [
       "<Figure size 1008x432 with 1 Axes>"
      ]
     },
     "metadata": {
      "needs_background": "light"
     },
     "output_type": "display_data"
    }
   ],
   "source": [
    "plot(age, 'Distribution of Customer based on Gender')"
   ]
  },
  {
   "cell_type": "markdown",
   "metadata": {},
   "source": [
    "The number of travellers drops precipitously beyond the age of 40. Customers under the age of 40 constitute a bigger proportion of the total. "
   ]
  },
  {
   "cell_type": "code",
   "execution_count": 72,
   "metadata": {},
   "outputs": [
    {
     "data": {
      "image/png": "[encoded data removed]",
      "text/plain": [
       "<Figure size 432x288 with 1 Axes>"
      ]
     },
     "metadata": {
      "needs_background": "light"
     },
     "output_type": "display_data"
    },
    {
     "name": "stdout",
     "output_type": "stream",
     "text": [
      "Max Income in the table is  35000\n",
      "Min Income in the table is  2000\n"
     ]
    }
   ],
   "source": [
    "numb = Custdata.groupby(['Age']).Monthly_income.mean()\n",
    "ax = numb.plot(kind='line',stacked = False)\n",
    "plt.show()\n",
    "\n",
    "print('Max Income in the table is ',Custdata['Monthly_income'].max())\n",
    "print('Min Income in the table is ',Custdata['Monthly_income'].min())"
   ]
  },
  {
   "cell_type": "markdown",
   "metadata": {},
   "source": [
    "The average income of our consumers of all ages is consistent."
   ]
  },
  {
   "cell_type": "code",
   "execution_count": 80,
   "metadata": {},
   "outputs": [
    {
     "name": "stdout",
     "output_type": "stream",
     "text": [
      "Gender  Age\n",
      "Female  18     14559.172554\n",
      "        19     14943.423410\n",
      "        20     15117.543860\n",
      "        21     15172.203812\n",
      "        22     15094.283444\n",
      "                   ...     \n",
      "Male    61     15027.250000\n",
      "        62     14995.261364\n",
      "        63     15624.091549\n",
      "        64     14779.901695\n",
      "        65     14816.531250\n",
      "Name: Monthly_income, Length: 96, dtype: float64\n"
     ]
    }
   ],
   "source": [
    "print(Custdata.groupby(['Gender','Age']).Monthly_income.mean())\n"
   ]
  },
  {
   "cell_type": "markdown",
   "metadata": {},
   "source": [
    "The average income for both guys and girls is almost the same (14k to 15k)."
   ]
  },
  {
   "cell_type": "markdown",
   "metadata": {},
   "source": [
    "### Transaction ID \n",
    "1. Transaction_ID = A unique identifier number assigned to each transaction passanger.\n",
    "1. Customer_ID = A unique identifier number assigned to each passenger.\n",
    "1. Payment_Mode = Payment type, which might be cash or a credit card."
   ]
  },
  {
   "cell_type": "code",
   "execution_count": 81,
   "metadata": {},
   "outputs": [
    {
     "data": {
      "text/html": [
       "<div>\n",
       "<style scoped>\n",
       "    .dataframe tbody tr th:only-of-type {\n",
       "        vertical-align: middle;\n",
       "    }\n",
       "\n",
       "    .dataframe tbody tr th {\n",
       "        vertical-align: top;\n",
       "    }\n",
       "\n",
       "    .dataframe thead th {\n",
       "        text-align: right;\n",
       "    }\n",
       "</style>\n",
       "<table border=\"1\" class=\"dataframe\">\n",
       "  <thead>\n",
       "    <tr style=\"text-align: right;\">\n",
       "      <th></th>\n",
       "      <th>Transaction_ID</th>\n",
       "      <th>Customer_ID</th>\n",
       "      <th>Payment_Mode</th>\n",
       "    </tr>\n",
       "  </thead>\n",
       "  <tbody>\n",
       "    <tr>\n",
       "      <th>0</th>\n",
       "      <td>10000011</td>\n",
       "      <td>29290</td>\n",
       "      <td>Card</td>\n",
       "    </tr>\n",
       "    <tr>\n",
       "      <th>1</th>\n",
       "      <td>10000012</td>\n",
       "      <td>27703</td>\n",
       "      <td>Card</td>\n",
       "    </tr>\n",
       "    <tr>\n",
       "      <th>2</th>\n",
       "      <td>10000013</td>\n",
       "      <td>28712</td>\n",
       "      <td>Cash</td>\n",
       "    </tr>\n",
       "    <tr>\n",
       "      <th>3</th>\n",
       "      <td>10000014</td>\n",
       "      <td>28020</td>\n",
       "      <td>Cash</td>\n",
       "    </tr>\n",
       "    <tr>\n",
       "      <th>4</th>\n",
       "      <td>10000015</td>\n",
       "      <td>27182</td>\n",
       "      <td>Card</td>\n",
       "    </tr>\n",
       "  </tbody>\n",
       "</table>\n",
       "</div>"
      ],
      "text/plain": [
       "   Transaction_ID  Customer_ID Payment_Mode\n",
       "0        10000011        29290         Card\n",
       "1        10000012        27703         Card\n",
       "2        10000013        28712         Cash\n",
       "3        10000014        28020         Cash\n",
       "4        10000015        27182         Card"
      ]
     },
     "execution_count": 81,
     "metadata": {},
     "output_type": "execute_result"
    }
   ],
   "source": [
    "Transcdata.head()"
   ]
  },
  {
   "cell_type": "code",
   "execution_count": 82,
   "metadata": {},
   "outputs": [
    {
     "name": "stdout",
     "output_type": "stream",
     "text": [
      "For DataSet :Transaction Dataset\n",
      "-------------//Shape of dataset- Transaction Dataset \n",
      "(440098, 3)\n",
      "-------------//Columns in dataset- Transaction Dataset \n",
      "Index(['Transaction_ID', 'Customer_ID', 'Payment_Mode'], dtype='object')\n",
      "-------------//Info for dataset- Transaction Dataset \n",
      "<class 'pandas.core.frame.DataFrame'>\n",
      "RangeIndex: 440098 entries, 0 to 440097\n",
      "Data columns (total 3 columns):\n",
      " #   Column          Non-Null Count   Dtype \n",
      "---  ------          --------------   ----- \n",
      " 0   Transaction_ID  440098 non-null  int64 \n",
      " 1   Customer_ID     440098 non-null  int64 \n",
      " 2   Payment_Mode    440098 non-null  object\n",
      "dtypes: int64(2), object(1)\n",
      "memory usage: 10.1+ MB\n",
      "None\n",
      "-------------//Null Values for dataset- Transaction Dataset\n",
      "Transaction_ID    0\n",
      "Customer_ID       0\n",
      "Payment_Mode      0\n",
      "dtype: int64\n",
      "-------------//Description of dataset- Transaction Dataset\n",
      "       Transaction_ID    Customer_ID\n",
      "count    4.400980e+05  440098.000000\n",
      "mean     1.022006e+07   23619.513120\n",
      "std      1.270455e+05   21195.549816\n",
      "min      1.000001e+07       1.000000\n",
      "25%      1.011004e+07    3530.000000\n",
      "50%      1.022006e+07   15168.000000\n",
      "75%      1.033008e+07   43884.000000\n",
      "max      1.044011e+07   60000.000000\n",
      "*******\n"
     ]
    }
   ],
   "source": [
    "data_call(Transcdata, 'Transaction Dataset')"
   ]
  },
  {
   "cell_type": "code",
   "execution_count": 89,
   "metadata": {},
   "outputs": [
    {
     "data": {
      "image/png": "[encoded data removed]",
      "text/plain": [
       "<Figure size 1008x432 with 1 Axes>"
      ]
     },
     "metadata": {
      "needs_background": "light"
     },
     "output_type": "display_data"
    }
   ],
   "source": [
    "type_payment = Transcdata.groupby(['Payment_Mode']).Transaction_ID.count()\n",
    "plot(type_payment, 'Payment_Mode')"
   ]
  },
  {
   "cell_type": "markdown",
   "metadata": {},
   "source": [
    "Customers prefer to pay using a credit card, which they use over 60% of the time."
   ]
  },
  {
   "cell_type": "markdown",
   "metadata": {},
   "source": [
    "### City \n",
    "1. City = Names of cities\n",
    "1. Population = City Population\n",
    "1. Users = Number of taxi users in each city"
   ]
  },
  {
   "cell_type": "code",
   "execution_count": 88,
   "metadata": {},
   "outputs": [
    {
     "name": "stdout",
     "output_type": "stream",
     "text": [
      "For DataSet :City Dataset\n",
      "-------------//Shape of dataset- City Dataset \n",
      "(20, 3)\n",
      "-------------//Columns in dataset- City Dataset \n",
      "Index(['City', 'Population', 'Users'], dtype='object')\n",
      "-------------//Info for dataset- City Dataset \n",
      "<class 'pandas.core.frame.DataFrame'>\n",
      "RangeIndex: 20 entries, 0 to 19\n",
      "Data columns (total 3 columns):\n",
      " #   Column      Non-Null Count  Dtype \n",
      "---  ------      --------------  ----- \n",
      " 0   City        20 non-null     object\n",
      " 1   Population  20 non-null     object\n",
      " 2   Users       20 non-null     object\n",
      "dtypes: object(3)\n",
      "memory usage: 608.0+ bytes\n",
      "None\n",
      "-------------//Null Values for dataset- City Dataset\n",
      "City          0\n",
      "Population    0\n",
      "Users         0\n",
      "dtype: int64\n",
      "-------------//Description of dataset- City Dataset\n",
      "               City   Population      Users\n",
      "count            20           20         20\n",
      "unique           20           20         20\n",
      "top     NEW YORK NY   8,405,837    302,149 \n",
      "freq              1            1          1\n",
      "*******\n"
     ]
    }
   ],
   "source": [
    "data_call(citydata, 'City Dataset')"
   ]
  },
  {
   "cell_type": "code",
   "execution_count": 90,
   "metadata": {},
   "outputs": [
    {
     "data": {
      "text/html": [
       "<div>\n",
       "<style scoped>\n",
       "    .dataframe tbody tr th:only-of-type {\n",
       "        vertical-align: middle;\n",
       "    }\n",
       "\n",
       "    .dataframe tbody tr th {\n",
       "        vertical-align: top;\n",
       "    }\n",
       "\n",
       "    .dataframe thead th {\n",
       "        text-align: right;\n",
       "    }\n",
       "</style>\n",
       "<table border=\"1\" class=\"dataframe\">\n",
       "  <thead>\n",
       "    <tr style=\"text-align: right;\">\n",
       "      <th></th>\n",
       "      <th>City</th>\n",
       "      <th>Population</th>\n",
       "      <th>Users</th>\n",
       "    </tr>\n",
       "  </thead>\n",
       "  <tbody>\n",
       "    <tr>\n",
       "      <th>0</th>\n",
       "      <td>NEW YORK NY</td>\n",
       "      <td>8,405,837</td>\n",
       "      <td>302,149</td>\n",
       "    </tr>\n",
       "    <tr>\n",
       "      <th>1</th>\n",
       "      <td>CHICAGO IL</td>\n",
       "      <td>1,955,130</td>\n",
       "      <td>164,468</td>\n",
       "    </tr>\n",
       "    <tr>\n",
       "      <th>2</th>\n",
       "      <td>LOS ANGELES CA</td>\n",
       "      <td>1,595,037</td>\n",
       "      <td>144,132</td>\n",
       "    </tr>\n",
       "    <tr>\n",
       "      <th>3</th>\n",
       "      <td>MIAMI FL</td>\n",
       "      <td>1,339,155</td>\n",
       "      <td>17,675</td>\n",
       "    </tr>\n",
       "    <tr>\n",
       "      <th>4</th>\n",
       "      <td>SILICON VALLEY</td>\n",
       "      <td>1,177,609</td>\n",
       "      <td>27,247</td>\n",
       "    </tr>\n",
       "  </tbody>\n",
       "</table>\n",
       "</div>"
      ],
      "text/plain": [
       "             City   Population      Users\n",
       "0     NEW YORK NY   8,405,837    302,149 \n",
       "1      CHICAGO IL   1,955,130    164,468 \n",
       "2  LOS ANGELES CA   1,595,037    144,132 \n",
       "3        MIAMI FL   1,339,155     17,675 \n",
       "4  SILICON VALLEY   1,177,609     27,247 "
      ]
     },
     "execution_count": 90,
     "metadata": {},
     "output_type": "execute_result"
    }
   ],
   "source": [
    "citydata.head()\n",
    "\n"
   ]
  },
  {
   "cell_type": "code",
   "execution_count": 91,
   "metadata": {},
   "outputs": [],
   "source": [
    "citydata['Population'] = citydata[\"Population\"].str.strip().str.replace(\",\",\"\") \n",
    "citydata['Users'] = citydata[\"Users\"].str.strip().str.replace(\",\",\"\")"
   ]
  },
  {
   "cell_type": "code",
   "execution_count": 92,
   "metadata": {},
   "outputs": [
    {
     "data": {
      "text/html": [
       "<div>\n",
       "<style scoped>\n",
       "    .dataframe tbody tr th:only-of-type {\n",
       "        vertical-align: middle;\n",
       "    }\n",
       "\n",
       "    .dataframe tbody tr th {\n",
       "        vertical-align: top;\n",
       "    }\n",
       "\n",
       "    .dataframe thead th {\n",
       "        text-align: right;\n",
       "    }\n",
       "</style>\n",
       "<table border=\"1\" class=\"dataframe\">\n",
       "  <thead>\n",
       "    <tr style=\"text-align: right;\">\n",
       "      <th></th>\n",
       "      <th>City</th>\n",
       "      <th>Population</th>\n",
       "      <th>Users</th>\n",
       "    </tr>\n",
       "  </thead>\n",
       "  <tbody>\n",
       "    <tr>\n",
       "      <th>0</th>\n",
       "      <td>NEW YORK NY</td>\n",
       "      <td>8405837</td>\n",
       "      <td>302149</td>\n",
       "    </tr>\n",
       "    <tr>\n",
       "      <th>1</th>\n",
       "      <td>CHICAGO IL</td>\n",
       "      <td>1955130</td>\n",
       "      <td>164468</td>\n",
       "    </tr>\n",
       "    <tr>\n",
       "      <th>2</th>\n",
       "      <td>LOS ANGELES CA</td>\n",
       "      <td>1595037</td>\n",
       "      <td>144132</td>\n",
       "    </tr>\n",
       "    <tr>\n",
       "      <th>3</th>\n",
       "      <td>MIAMI FL</td>\n",
       "      <td>1339155</td>\n",
       "      <td>17675</td>\n",
       "    </tr>\n",
       "    <tr>\n",
       "      <th>4</th>\n",
       "      <td>SILICON VALLEY</td>\n",
       "      <td>1177609</td>\n",
       "      <td>27247</td>\n",
       "    </tr>\n",
       "  </tbody>\n",
       "</table>\n",
       "</div>"
      ],
      "text/plain": [
       "             City Population   Users\n",
       "0     NEW YORK NY    8405837  302149\n",
       "1      CHICAGO IL    1955130  164468\n",
       "2  LOS ANGELES CA    1595037  144132\n",
       "3        MIAMI FL    1339155   17675\n",
       "4  SILICON VALLEY    1177609   27247"
      ]
     },
     "execution_count": 92,
     "metadata": {},
     "output_type": "execute_result"
    }
   ],
   "source": [
    "citydata.head()\n"
   ]
  },
  {
   "cell_type": "code",
   "execution_count": 94,
   "metadata": {},
   "outputs": [],
   "source": [
    "users = list(citydata[\"Users\"].str.strip().str.replace(\",\",\"\"))\n",
    "citydata['Users'] = users\n",
    "users=[]\n",
    "for i in citydata['Users']:\n",
    "    i = float(i)\n",
    "    users.append(i)\n",
    "citydata['Users'] = users"
   ]
  },
  {
   "cell_type": "code",
   "execution_count": 93,
   "metadata": {},
   "outputs": [],
   "source": [
    "population = list(citydata[\"Population\"].str.strip().str.replace(\",\",\"\"))\n",
    "citydata['Population'] = population\n",
    "population = []\n",
    "for i in citydata['Population']:\n",
    "    i = float(i)\n",
    "    population.append(i)\n",
    "citydata['Population'] = population"
   ]
  },
  {
   "cell_type": "code",
   "execution_count": 96,
   "metadata": {},
   "outputs": [],
   "source": [
    "citydata['User_percent'] = (citydata['Users']/ citydata['Population'])*100"
   ]
  },
  {
   "cell_type": "code",
   "execution_count": 101,
   "metadata": {},
   "outputs": [
    {
     "data": {
      "image/png": "[encoded data removed]",
      "text/plain": [
       "<Figure size 1008x432 with 1 Axes>"
      ]
     },
     "metadata": {
      "needs_background": "light"
     },
     "output_type": "display_data"
    }
   ],
   "source": [
    "plt.figure(figsize=(14,6))\n",
    "sns.barplot(x= citydata.City, y=citydata.User_percent)     \n",
    "plt.title('User percent ')\n",
    "plt.xticks(rotation=90)\n",
    "plt.show()"
   ]
  },
  {
   "cell_type": "code",
   "execution_count": 99,
   "metadata": {},
   "outputs": [
    {
     "data": {
      "image/png": "[encoded data removed]",
      "text/plain": [
       "<Figure size 1008x432 with 1 Axes>"
      ]
     },
     "metadata": {
      "needs_background": "light"
     },
     "output_type": "display_data"
    }
   ],
   "source": [
    "plt.figure(figsize=(14,6))\n",
    "sns.barplot(x= citydata.City, y=citydata.Users)     \n",
    "plt.title('Divided Users')\n",
    "plt.xticks(rotation=90)\n",
    "plt.show()"
   ]
  },
  {
   "cell_type": "markdown",
   "metadata": {},
   "source": [
    "There is no relationship between users and percentage of users. The city with the most users is NEW YORK, NY, whereas the city with the most prospective users is SAN FRANCISCO, CA."
   ]
  },
  {
   "cell_type": "markdown",
   "metadata": {},
   "source": [
    "**Merge All Datasets into MasterData**"
   ]
  },
  {
   "cell_type": "code",
   "execution_count": 105,
   "metadata": {},
   "outputs": [
    {
     "name": "stdout",
     "output_type": "stream",
     "text": [
      "MasterData dataset has 359392 entries , 19 features and 0 missing values\n",
      "\n",
      "Feature's datatypes\n",
      "\n",
      "Transaction_ID        int64\n",
      "Company              object\n",
      "City                 object\n",
      "KM_Travelled        float64\n",
      "Price_Charged       float64\n",
      "Cost_of_Trip        float64\n",
      "Year                  int64\n",
      "Month                 int64\n",
      "Profit              float64\n",
      "ProfitPercentage    float64\n",
      "Profit_per_KM       float64\n",
      "Customer_ID           int64\n",
      "Payment_Mode         object\n",
      "Gender               object\n",
      "Age                   int64\n",
      "Monthly_income        int64\n",
      "Population          float64\n",
      "Users               float64\n",
      "User_percent        float64\n",
      "dtype: object\n"
     ]
    },
    {
     "data": {
      "text/html": [
       "<div>\n",
       "<style scoped>\n",
       "    .dataframe tbody tr th:only-of-type {\n",
       "        vertical-align: middle;\n",
       "    }\n",
       "\n",
       "    .dataframe tbody tr th {\n",
       "        vertical-align: top;\n",
       "    }\n",
       "\n",
       "    .dataframe thead th {\n",
       "        text-align: right;\n",
       "    }\n",
       "</style>\n",
       "<table border=\"1\" class=\"dataframe\">\n",
       "  <thead>\n",
       "    <tr style=\"text-align: right;\">\n",
       "      <th></th>\n",
       "      <th>Transaction_ID</th>\n",
       "      <th>Company</th>\n",
       "      <th>City</th>\n",
       "      <th>KM_Travelled</th>\n",
       "      <th>Price_Charged</th>\n",
       "      <th>Cost_of_Trip</th>\n",
       "      <th>Year</th>\n",
       "      <th>Month</th>\n",
       "      <th>Profit</th>\n",
       "      <th>ProfitPercentage</th>\n",
       "      <th>Profit_per_KM</th>\n",
       "      <th>Customer_ID</th>\n",
       "      <th>Payment_Mode</th>\n",
       "      <th>Gender</th>\n",
       "      <th>Age</th>\n",
       "      <th>Monthly_income</th>\n",
       "      <th>Population</th>\n",
       "      <th>Users</th>\n",
       "      <th>User_percent</th>\n",
       "    </tr>\n",
       "  </thead>\n",
       "  <tbody>\n",
       "    <tr>\n",
       "      <th>0</th>\n",
       "      <td>10000011</td>\n",
       "      <td>Pink Cab</td>\n",
       "      <td>ATLANTA GA</td>\n",
       "      <td>30.45</td>\n",
       "      <td>370.95</td>\n",
       "      <td>313.6350</td>\n",
       "      <td>2016</td>\n",
       "      <td>8</td>\n",
       "      <td>57.3150</td>\n",
       "      <td>18.274427</td>\n",
       "      <td>1.882266</td>\n",
       "      <td>29290</td>\n",
       "      <td>Card</td>\n",
       "      <td>Male</td>\n",
       "      <td>28</td>\n",
       "      <td>10813</td>\n",
       "      <td>814885.0</td>\n",
       "      <td>24701.0</td>\n",
       "      <td>3.031225</td>\n",
       "    </tr>\n",
       "    <tr>\n",
       "      <th>1</th>\n",
       "      <td>10351127</td>\n",
       "      <td>Yellow Cab</td>\n",
       "      <td>ATLANTA GA</td>\n",
       "      <td>26.19</td>\n",
       "      <td>598.70</td>\n",
       "      <td>317.4228</td>\n",
       "      <td>2018</td>\n",
       "      <td>7</td>\n",
       "      <td>281.2772</td>\n",
       "      <td>88.612790</td>\n",
       "      <td>10.739870</td>\n",
       "      <td>29290</td>\n",
       "      <td>Cash</td>\n",
       "      <td>Male</td>\n",
       "      <td>28</td>\n",
       "      <td>10813</td>\n",
       "      <td>814885.0</td>\n",
       "      <td>24701.0</td>\n",
       "      <td>3.031225</td>\n",
       "    </tr>\n",
       "    <tr>\n",
       "      <th>2</th>\n",
       "      <td>10412921</td>\n",
       "      <td>Yellow Cab</td>\n",
       "      <td>ATLANTA GA</td>\n",
       "      <td>42.55</td>\n",
       "      <td>792.05</td>\n",
       "      <td>597.4020</td>\n",
       "      <td>2018</td>\n",
       "      <td>11</td>\n",
       "      <td>194.6480</td>\n",
       "      <td>32.582415</td>\n",
       "      <td>4.574571</td>\n",
       "      <td>29290</td>\n",
       "      <td>Card</td>\n",
       "      <td>Male</td>\n",
       "      <td>28</td>\n",
       "      <td>10813</td>\n",
       "      <td>814885.0</td>\n",
       "      <td>24701.0</td>\n",
       "      <td>3.031225</td>\n",
       "    </tr>\n",
       "    <tr>\n",
       "      <th>3</th>\n",
       "      <td>10000012</td>\n",
       "      <td>Pink Cab</td>\n",
       "      <td>ATLANTA GA</td>\n",
       "      <td>28.62</td>\n",
       "      <td>358.52</td>\n",
       "      <td>334.8540</td>\n",
       "      <td>2016</td>\n",
       "      <td>6</td>\n",
       "      <td>23.6660</td>\n",
       "      <td>7.067558</td>\n",
       "      <td>0.826904</td>\n",
       "      <td>27703</td>\n",
       "      <td>Card</td>\n",
       "      <td>Male</td>\n",
       "      <td>27</td>\n",
       "      <td>9237</td>\n",
       "      <td>814885.0</td>\n",
       "      <td>24701.0</td>\n",
       "      <td>3.031225</td>\n",
       "    </tr>\n",
       "    <tr>\n",
       "      <th>4</th>\n",
       "      <td>10320494</td>\n",
       "      <td>Yellow Cab</td>\n",
       "      <td>ATLANTA GA</td>\n",
       "      <td>36.38</td>\n",
       "      <td>721.10</td>\n",
       "      <td>467.1192</td>\n",
       "      <td>2018</td>\n",
       "      <td>4</td>\n",
       "      <td>253.9808</td>\n",
       "      <td>54.371732</td>\n",
       "      <td>6.981330</td>\n",
       "      <td>27703</td>\n",
       "      <td>Card</td>\n",
       "      <td>Male</td>\n",
       "      <td>27</td>\n",
       "      <td>9237</td>\n",
       "      <td>814885.0</td>\n",
       "      <td>24701.0</td>\n",
       "      <td>3.031225</td>\n",
       "    </tr>\n",
       "    <tr>\n",
       "      <th>5</th>\n",
       "      <td>10324737</td>\n",
       "      <td>Yellow Cab</td>\n",
       "      <td>ATLANTA GA</td>\n",
       "      <td>6.18</td>\n",
       "      <td>138.40</td>\n",
       "      <td>87.5088</td>\n",
       "      <td>2018</td>\n",
       "      <td>4</td>\n",
       "      <td>50.8912</td>\n",
       "      <td>58.155523</td>\n",
       "      <td>8.234822</td>\n",
       "      <td>27703</td>\n",
       "      <td>Cash</td>\n",
       "      <td>Male</td>\n",
       "      <td>27</td>\n",
       "      <td>9237</td>\n",
       "      <td>814885.0</td>\n",
       "      <td>24701.0</td>\n",
       "      <td>3.031225</td>\n",
       "    </tr>\n",
       "    <tr>\n",
       "      <th>6</th>\n",
       "      <td>10395626</td>\n",
       "      <td>Pink Cab</td>\n",
       "      <td>ATLANTA GA</td>\n",
       "      <td>13.39</td>\n",
       "      <td>167.03</td>\n",
       "      <td>141.9340</td>\n",
       "      <td>2018</td>\n",
       "      <td>10</td>\n",
       "      <td>25.0960</td>\n",
       "      <td>17.681458</td>\n",
       "      <td>1.874235</td>\n",
       "      <td>27703</td>\n",
       "      <td>Card</td>\n",
       "      <td>Male</td>\n",
       "      <td>27</td>\n",
       "      <td>9237</td>\n",
       "      <td>814885.0</td>\n",
       "      <td>24701.0</td>\n",
       "      <td>3.031225</td>\n",
       "    </tr>\n",
       "    <tr>\n",
       "      <th>7</th>\n",
       "      <td>10000013</td>\n",
       "      <td>Pink Cab</td>\n",
       "      <td>ATLANTA GA</td>\n",
       "      <td>9.04</td>\n",
       "      <td>125.20</td>\n",
       "      <td>97.6320</td>\n",
       "      <td>2016</td>\n",
       "      <td>2</td>\n",
       "      <td>27.5680</td>\n",
       "      <td>28.236644</td>\n",
       "      <td>3.049558</td>\n",
       "      <td>28712</td>\n",
       "      <td>Cash</td>\n",
       "      <td>Male</td>\n",
       "      <td>53</td>\n",
       "      <td>11242</td>\n",
       "      <td>814885.0</td>\n",
       "      <td>24701.0</td>\n",
       "      <td>3.031225</td>\n",
       "    </tr>\n",
       "    <tr>\n",
       "      <th>8</th>\n",
       "      <td>10079404</td>\n",
       "      <td>Yellow Cab</td>\n",
       "      <td>ATLANTA GA</td>\n",
       "      <td>39.60</td>\n",
       "      <td>704.30</td>\n",
       "      <td>494.2080</td>\n",
       "      <td>2016</td>\n",
       "      <td>9</td>\n",
       "      <td>210.0920</td>\n",
       "      <td>42.510846</td>\n",
       "      <td>5.305354</td>\n",
       "      <td>28712</td>\n",
       "      <td>Card</td>\n",
       "      <td>Male</td>\n",
       "      <td>53</td>\n",
       "      <td>11242</td>\n",
       "      <td>814885.0</td>\n",
       "      <td>24701.0</td>\n",
       "      <td>3.031225</td>\n",
       "    </tr>\n",
       "    <tr>\n",
       "      <th>9</th>\n",
       "      <td>10186994</td>\n",
       "      <td>Yellow Cab</td>\n",
       "      <td>ATLANTA GA</td>\n",
       "      <td>18.19</td>\n",
       "      <td>365.63</td>\n",
       "      <td>246.6564</td>\n",
       "      <td>2017</td>\n",
       "      <td>6</td>\n",
       "      <td>118.9736</td>\n",
       "      <td>48.234548</td>\n",
       "      <td>6.540605</td>\n",
       "      <td>28712</td>\n",
       "      <td>Card</td>\n",
       "      <td>Male</td>\n",
       "      <td>53</td>\n",
       "      <td>11242</td>\n",
       "      <td>814885.0</td>\n",
       "      <td>24701.0</td>\n",
       "      <td>3.031225</td>\n",
       "    </tr>\n",
       "  </tbody>\n",
       "</table>\n",
       "</div>"
      ],
      "text/plain": [
       "   Transaction_ID     Company        City  KM_Travelled  Price_Charged  \\\n",
       "0        10000011    Pink Cab  ATLANTA GA         30.45         370.95   \n",
       "1        10351127  Yellow Cab  ATLANTA GA         26.19         598.70   \n",
       "2        10412921  Yellow Cab  ATLANTA GA         42.55         792.05   \n",
       "3        10000012    Pink Cab  ATLANTA GA         28.62         358.52   \n",
       "4        10320494  Yellow Cab  ATLANTA GA         36.38         721.10   \n",
       "5        10324737  Yellow Cab  ATLANTA GA          6.18         138.40   \n",
       "6        10395626    Pink Cab  ATLANTA GA         13.39         167.03   \n",
       "7        10000013    Pink Cab  ATLANTA GA          9.04         125.20   \n",
       "8        10079404  Yellow Cab  ATLANTA GA         39.60         704.30   \n",
       "9        10186994  Yellow Cab  ATLANTA GA         18.19         365.63   \n",
       "\n",
       "   Cost_of_Trip  Year  Month    Profit  ProfitPercentage  Profit_per_KM  \\\n",
       "0      313.6350  2016      8   57.3150         18.274427       1.882266   \n",
       "1      317.4228  2018      7  281.2772         88.612790      10.739870   \n",
       "2      597.4020  2018     11  194.6480         32.582415       4.574571   \n",
       "3      334.8540  2016      6   23.6660          7.067558       0.826904   \n",
       "4      467.1192  2018      4  253.9808         54.371732       6.981330   \n",
       "5       87.5088  2018      4   50.8912         58.155523       8.234822   \n",
       "6      141.9340  2018     10   25.0960         17.681458       1.874235   \n",
       "7       97.6320  2016      2   27.5680         28.236644       3.049558   \n",
       "8      494.2080  2016      9  210.0920         42.510846       5.305354   \n",
       "9      246.6564  2017      6  118.9736         48.234548       6.540605   \n",
       "\n",
       "   Customer_ID Payment_Mode Gender  Age  Monthly_income  Population    Users  \\\n",
       "0        29290         Card   Male   28           10813    814885.0  24701.0   \n",
       "1        29290         Cash   Male   28           10813    814885.0  24701.0   \n",
       "2        29290         Card   Male   28           10813    814885.0  24701.0   \n",
       "3        27703         Card   Male   27            9237    814885.0  24701.0   \n",
       "4        27703         Card   Male   27            9237    814885.0  24701.0   \n",
       "5        27703         Cash   Male   27            9237    814885.0  24701.0   \n",
       "6        27703         Card   Male   27            9237    814885.0  24701.0   \n",
       "7        28712         Cash   Male   53           11242    814885.0  24701.0   \n",
       "8        28712         Card   Male   53           11242    814885.0  24701.0   \n",
       "9        28712         Card   Male   53           11242    814885.0  24701.0   \n",
       "\n",
       "   User_percent  \n",
       "0      3.031225  \n",
       "1      3.031225  \n",
       "2      3.031225  \n",
       "3      3.031225  \n",
       "4      3.031225  \n",
       "5      3.031225  \n",
       "6      3.031225  \n",
       "7      3.031225  \n",
       "8      3.031225  \n",
       "9      3.031225  "
      ]
     },
     "execution_count": 105,
     "metadata": {},
     "output_type": "execute_result"
    }
   ],
   "source": [
    "Master_D = cabdata.merge(Transcdata, on= 'Transaction_ID').merge(Custdata, on ='Customer_ID').merge(citydata, on = 'City')\n",
    "value = 0\n",
    "for column in Master_D.columns :\n",
    "    value += Master_D[column].isna().sum() + Master_D[column].isnull().sum()\n",
    "print('MasterData dataset has {} entries , {} features and {} missing values'.format(Master_D.shape[0] ,Master_D.shape[1] ,value))\n",
    "print(\"\\nFeature's datatypes\\n\\n{}\".format(Master_D.dtypes))\n",
    "Master_D.head(10)"
   ]
  },
  {
   "cell_type": "code",
   "execution_count": 106,
   "metadata": {},
   "outputs": [],
   "source": [
    "value = Master_D.drop(['Transaction_ID', 'Customer_ID'], axis=1)"
   ]
  },
  {
   "cell_type": "code",
   "execution_count": 108,
   "metadata": {},
   "outputs": [
    {
     "data": {
      "text/html": [
       "<div>\n",
       "<style scoped>\n",
       "    .dataframe tbody tr th:only-of-type {\n",
       "        vertical-align: middle;\n",
       "    }\n",
       "\n",
       "    .dataframe tbody tr th {\n",
       "        vertical-align: top;\n",
       "    }\n",
       "\n",
       "    .dataframe thead th {\n",
       "        text-align: right;\n",
       "    }\n",
       "</style>\n",
       "<table border=\"1\" class=\"dataframe\">\n",
       "  <thead>\n",
       "    <tr style=\"text-align: right;\">\n",
       "      <th></th>\n",
       "      <th>Company</th>\n",
       "      <th>City</th>\n",
       "      <th>KM_Travelled</th>\n",
       "      <th>Price_Charged</th>\n",
       "      <th>Cost_of_Trip</th>\n",
       "      <th>Year</th>\n",
       "      <th>Month</th>\n",
       "      <th>Profit</th>\n",
       "      <th>ProfitPercentage</th>\n",
       "      <th>Profit_per_KM</th>\n",
       "      <th>Payment_Mode</th>\n",
       "      <th>Gender</th>\n",
       "      <th>Age</th>\n",
       "      <th>Monthly_income</th>\n",
       "      <th>Population</th>\n",
       "      <th>Users</th>\n",
       "      <th>User_percent</th>\n",
       "    </tr>\n",
       "  </thead>\n",
       "  <tbody>\n",
       "    <tr>\n",
       "      <th>0</th>\n",
       "      <td>0</td>\n",
       "      <td>0</td>\n",
       "      <td>30.45</td>\n",
       "      <td>370.95</td>\n",
       "      <td>313.6350</td>\n",
       "      <td>2016</td>\n",
       "      <td>8</td>\n",
       "      <td>57.3150</td>\n",
       "      <td>18.274427</td>\n",
       "      <td>1.882266</td>\n",
       "      <td>0</td>\n",
       "      <td>1</td>\n",
       "      <td>28</td>\n",
       "      <td>10813</td>\n",
       "      <td>814885.0</td>\n",
       "      <td>24701.0</td>\n",
       "      <td>3.031225</td>\n",
       "    </tr>\n",
       "    <tr>\n",
       "      <th>1</th>\n",
       "      <td>1</td>\n",
       "      <td>0</td>\n",
       "      <td>26.19</td>\n",
       "      <td>598.70</td>\n",
       "      <td>317.4228</td>\n",
       "      <td>2018</td>\n",
       "      <td>7</td>\n",
       "      <td>281.2772</td>\n",
       "      <td>88.612790</td>\n",
       "      <td>10.739870</td>\n",
       "      <td>1</td>\n",
       "      <td>1</td>\n",
       "      <td>28</td>\n",
       "      <td>10813</td>\n",
       "      <td>814885.0</td>\n",
       "      <td>24701.0</td>\n",
       "      <td>3.031225</td>\n",
       "    </tr>\n",
       "    <tr>\n",
       "      <th>2</th>\n",
       "      <td>1</td>\n",
       "      <td>0</td>\n",
       "      <td>42.55</td>\n",
       "      <td>792.05</td>\n",
       "      <td>597.4020</td>\n",
       "      <td>2018</td>\n",
       "      <td>11</td>\n",
       "      <td>194.6480</td>\n",
       "      <td>32.582415</td>\n",
       "      <td>4.574571</td>\n",
       "      <td>0</td>\n",
       "      <td>1</td>\n",
       "      <td>28</td>\n",
       "      <td>10813</td>\n",
       "      <td>814885.0</td>\n",
       "      <td>24701.0</td>\n",
       "      <td>3.031225</td>\n",
       "    </tr>\n",
       "    <tr>\n",
       "      <th>3</th>\n",
       "      <td>0</td>\n",
       "      <td>0</td>\n",
       "      <td>28.62</td>\n",
       "      <td>358.52</td>\n",
       "      <td>334.8540</td>\n",
       "      <td>2016</td>\n",
       "      <td>6</td>\n",
       "      <td>23.6660</td>\n",
       "      <td>7.067558</td>\n",
       "      <td>0.826904</td>\n",
       "      <td>0</td>\n",
       "      <td>1</td>\n",
       "      <td>27</td>\n",
       "      <td>9237</td>\n",
       "      <td>814885.0</td>\n",
       "      <td>24701.0</td>\n",
       "      <td>3.031225</td>\n",
       "    </tr>\n",
       "    <tr>\n",
       "      <th>4</th>\n",
       "      <td>1</td>\n",
       "      <td>0</td>\n",
       "      <td>36.38</td>\n",
       "      <td>721.10</td>\n",
       "      <td>467.1192</td>\n",
       "      <td>2018</td>\n",
       "      <td>4</td>\n",
       "      <td>253.9808</td>\n",
       "      <td>54.371732</td>\n",
       "      <td>6.981330</td>\n",
       "      <td>0</td>\n",
       "      <td>1</td>\n",
       "      <td>27</td>\n",
       "      <td>9237</td>\n",
       "      <td>814885.0</td>\n",
       "      <td>24701.0</td>\n",
       "      <td>3.031225</td>\n",
       "    </tr>\n",
       "    <tr>\n",
       "      <th>...</th>\n",
       "      <td>...</td>\n",
       "      <td>...</td>\n",
       "      <td>...</td>\n",
       "      <td>...</td>\n",
       "      <td>...</td>\n",
       "      <td>...</td>\n",
       "      <td>...</td>\n",
       "      <td>...</td>\n",
       "      <td>...</td>\n",
       "      <td>...</td>\n",
       "      <td>...</td>\n",
       "      <td>...</td>\n",
       "      <td>...</td>\n",
       "      <td>...</td>\n",
       "      <td>...</td>\n",
       "      <td>...</td>\n",
       "      <td>...</td>\n",
       "    </tr>\n",
       "    <tr>\n",
       "      <th>359387</th>\n",
       "      <td>1</td>\n",
       "      <td>18</td>\n",
       "      <td>38.40</td>\n",
       "      <td>668.93</td>\n",
       "      <td>525.3120</td>\n",
       "      <td>2018</td>\n",
       "      <td>3</td>\n",
       "      <td>143.6180</td>\n",
       "      <td>27.339562</td>\n",
       "      <td>3.740052</td>\n",
       "      <td>1</td>\n",
       "      <td>0</td>\n",
       "      <td>29</td>\n",
       "      <td>6829</td>\n",
       "      <td>418859.0</td>\n",
       "      <td>127001.0</td>\n",
       "      <td>30.320705</td>\n",
       "    </tr>\n",
       "    <tr>\n",
       "      <th>359388</th>\n",
       "      <td>1</td>\n",
       "      <td>18</td>\n",
       "      <td>3.57</td>\n",
       "      <td>67.60</td>\n",
       "      <td>44.5536</td>\n",
       "      <td>2018</td>\n",
       "      <td>4</td>\n",
       "      <td>23.0464</td>\n",
       "      <td>51.727358</td>\n",
       "      <td>6.455574</td>\n",
       "      <td>1</td>\n",
       "      <td>0</td>\n",
       "      <td>29</td>\n",
       "      <td>6829</td>\n",
       "      <td>418859.0</td>\n",
       "      <td>127001.0</td>\n",
       "      <td>30.320705</td>\n",
       "    </tr>\n",
       "    <tr>\n",
       "      <th>359389</th>\n",
       "      <td>1</td>\n",
       "      <td>18</td>\n",
       "      <td>23.46</td>\n",
       "      <td>331.97</td>\n",
       "      <td>337.8240</td>\n",
       "      <td>2018</td>\n",
       "      <td>6</td>\n",
       "      <td>-5.8540</td>\n",
       "      <td>-1.732855</td>\n",
       "      <td>-0.249531</td>\n",
       "      <td>0</td>\n",
       "      <td>0</td>\n",
       "      <td>29</td>\n",
       "      <td>6829</td>\n",
       "      <td>418859.0</td>\n",
       "      <td>127001.0</td>\n",
       "      <td>30.320705</td>\n",
       "    </tr>\n",
       "    <tr>\n",
       "      <th>359390</th>\n",
       "      <td>1</td>\n",
       "      <td>18</td>\n",
       "      <td>27.60</td>\n",
       "      <td>358.23</td>\n",
       "      <td>364.3200</td>\n",
       "      <td>2018</td>\n",
       "      <td>2</td>\n",
       "      <td>-6.0900</td>\n",
       "      <td>-1.671607</td>\n",
       "      <td>-0.220652</td>\n",
       "      <td>1</td>\n",
       "      <td>0</td>\n",
       "      <td>29</td>\n",
       "      <td>6829</td>\n",
       "      <td>418859.0</td>\n",
       "      <td>127001.0</td>\n",
       "      <td>30.320705</td>\n",
       "    </tr>\n",
       "    <tr>\n",
       "      <th>359391</th>\n",
       "      <td>1</td>\n",
       "      <td>18</td>\n",
       "      <td>34.24</td>\n",
       "      <td>453.11</td>\n",
       "      <td>427.3152</td>\n",
       "      <td>2018</td>\n",
       "      <td>8</td>\n",
       "      <td>25.7948</td>\n",
       "      <td>6.036481</td>\n",
       "      <td>0.753353</td>\n",
       "      <td>0</td>\n",
       "      <td>0</td>\n",
       "      <td>29</td>\n",
       "      <td>6829</td>\n",
       "      <td>418859.0</td>\n",
       "      <td>127001.0</td>\n",
       "      <td>30.320705</td>\n",
       "    </tr>\n",
       "  </tbody>\n",
       "</table>\n",
       "<p>359392 rows × 17 columns</p>\n",
       "</div>"
      ],
      "text/plain": [
       "        Company  City  KM_Travelled  Price_Charged  Cost_of_Trip  Year  Month  \\\n",
       "0             0     0         30.45         370.95      313.6350  2016      8   \n",
       "1             1     0         26.19         598.70      317.4228  2018      7   \n",
       "2             1     0         42.55         792.05      597.4020  2018     11   \n",
       "3             0     0         28.62         358.52      334.8540  2016      6   \n",
       "4             1     0         36.38         721.10      467.1192  2018      4   \n",
       "...         ...   ...           ...            ...           ...   ...    ...   \n",
       "359387        1    18         38.40         668.93      525.3120  2018      3   \n",
       "359388        1    18          3.57          67.60       44.5536  2018      4   \n",
       "359389        1    18         23.46         331.97      337.8240  2018      6   \n",
       "359390        1    18         27.60         358.23      364.3200  2018      2   \n",
       "359391        1    18         34.24         453.11      427.3152  2018      8   \n",
       "\n",
       "          Profit  ProfitPercentage  Profit_per_KM  Payment_Mode  Gender  Age  \\\n",
       "0        57.3150         18.274427       1.882266             0       1   28   \n",
       "1       281.2772         88.612790      10.739870             1       1   28   \n",
       "2       194.6480         32.582415       4.574571             0       1   28   \n",
       "3        23.6660          7.067558       0.826904             0       1   27   \n",
       "4       253.9808         54.371732       6.981330             0       1   27   \n",
       "...          ...               ...            ...           ...     ...  ...   \n",
       "359387  143.6180         27.339562       3.740052             1       0   29   \n",
       "359388   23.0464         51.727358       6.455574             1       0   29   \n",
       "359389   -5.8540         -1.732855      -0.249531             0       0   29   \n",
       "359390   -6.0900         -1.671607      -0.220652             1       0   29   \n",
       "359391   25.7948          6.036481       0.753353             0       0   29   \n",
       "\n",
       "        Monthly_income  Population     Users  User_percent  \n",
       "0                10813    814885.0   24701.0      3.031225  \n",
       "1                10813    814885.0   24701.0      3.031225  \n",
       "2                10813    814885.0   24701.0      3.031225  \n",
       "3                 9237    814885.0   24701.0      3.031225  \n",
       "4                 9237    814885.0   24701.0      3.031225  \n",
       "...                ...         ...       ...           ...  \n",
       "359387            6829    418859.0  127001.0     30.320705  \n",
       "359388            6829    418859.0  127001.0     30.320705  \n",
       "359389            6829    418859.0  127001.0     30.320705  \n",
       "359390            6829    418859.0  127001.0     30.320705  \n",
       "359391            6829    418859.0  127001.0     30.320705  \n",
       "\n",
       "[359392 rows x 17 columns]"
      ]
     },
     "execution_count": 108,
     "metadata": {},
     "output_type": "execute_result"
    }
   ],
   "source": [
    "label = LabelEncoder()\n",
    "value[\"Company\"] = label.fit_transform(value[\"Company\"])\n",
    "value[\"Gender\"] = label.fit_transform(value[\"Gender\"])\n",
    "value[\"City\"] = label.fit_transform(value[\"City\"])\n",
    "value[\"Payment_Mode\"] = label.fit_transform(value[\"Payment_Mode\"])\n",
    "value"
   ]
  },
  {
   "cell_type": "code",
   "execution_count": 109,
   "metadata": {},
   "outputs": [
    {
     "data": {
      "text/html": [
       "<div>\n",
       "<style scoped>\n",
       "    .dataframe tbody tr th:only-of-type {\n",
       "        vertical-align: middle;\n",
       "    }\n",
       "\n",
       "    .dataframe tbody tr th {\n",
       "        vertical-align: top;\n",
       "    }\n",
       "\n",
       "    .dataframe thead th {\n",
       "        text-align: right;\n",
       "    }\n",
       "</style>\n",
       "<table border=\"1\" class=\"dataframe\">\n",
       "  <thead>\n",
       "    <tr style=\"text-align: right;\">\n",
       "      <th></th>\n",
       "      <th>Company</th>\n",
       "      <th>City</th>\n",
       "      <th>KM_Travelled</th>\n",
       "      <th>Price_Charged</th>\n",
       "      <th>Cost_of_Trip</th>\n",
       "      <th>Year</th>\n",
       "      <th>Month</th>\n",
       "      <th>Profit</th>\n",
       "      <th>ProfitPercentage</th>\n",
       "      <th>Profit_per_KM</th>\n",
       "      <th>Payment_Mode</th>\n",
       "      <th>Gender</th>\n",
       "      <th>Age</th>\n",
       "      <th>Monthly_income</th>\n",
       "      <th>Population</th>\n",
       "      <th>Users</th>\n",
       "      <th>User_percent</th>\n",
       "    </tr>\n",
       "  </thead>\n",
       "  <tbody>\n",
       "    <tr>\n",
       "      <th>Company</th>\n",
       "      <td>1.000000</td>\n",
       "      <td>0.002109</td>\n",
       "      <td>0.000333</td>\n",
       "      <td>0.227986</td>\n",
       "      <td>0.133713</td>\n",
       "      <td>-0.003287</td>\n",
       "      <td>-0.031128</td>\n",
       "      <td>0.258426</td>\n",
       "      <td>0.286510</td>\n",
       "      <td>0.331957</td>\n",
       "      <td>-0.001026</td>\n",
       "      <td>0.017279</td>\n",
       "      <td>0.000630</td>\n",
       "      <td>-0.000712</td>\n",
       "      <td>0.130920</td>\n",
       "      <td>0.180476</td>\n",
       "      <td>0.118189</td>\n",
       "    </tr>\n",
       "    <tr>\n",
       "      <th>City</th>\n",
       "      <td>0.002109</td>\n",
       "      <td>1.000000</td>\n",
       "      <td>0.000471</td>\n",
       "      <td>0.037286</td>\n",
       "      <td>0.000776</td>\n",
       "      <td>-0.000830</td>\n",
       "      <td>-0.005856</td>\n",
       "      <td>0.063052</td>\n",
       "      <td>0.080804</td>\n",
       "      <td>0.079695</td>\n",
       "      <td>-0.000885</td>\n",
       "      <td>-0.011733</td>\n",
       "      <td>-0.008872</td>\n",
       "      <td>-0.008725</td>\n",
       "      <td>0.000379</td>\n",
       "      <td>-0.005128</td>\n",
       "      <td>0.207573</td>\n",
       "    </tr>\n",
       "    <tr>\n",
       "      <th>KM_Travelled</th>\n",
       "      <td>0.000333</td>\n",
       "      <td>0.000471</td>\n",
       "      <td>1.000000</td>\n",
       "      <td>0.835753</td>\n",
       "      <td>0.981848</td>\n",
       "      <td>-0.001072</td>\n",
       "      <td>0.001033</td>\n",
       "      <td>0.462768</td>\n",
       "      <td>-0.000417</td>\n",
       "      <td>-0.000538</td>\n",
       "      <td>-0.000766</td>\n",
       "      <td>-0.001350</td>\n",
       "      <td>-0.000369</td>\n",
       "      <td>-0.000544</td>\n",
       "      <td>-0.002311</td>\n",
       "      <td>-0.000428</td>\n",
       "      <td>0.002305</td>\n",
       "    </tr>\n",
       "    <tr>\n",
       "      <th>Price_Charged</th>\n",
       "      <td>0.227986</td>\n",
       "      <td>0.037286</td>\n",
       "      <td>0.835753</td>\n",
       "      <td>1.000000</td>\n",
       "      <td>0.859812</td>\n",
       "      <td>-0.036409</td>\n",
       "      <td>-0.036288</td>\n",
       "      <td>0.864154</td>\n",
       "      <td>0.463584</td>\n",
       "      <td>0.473222</td>\n",
       "      <td>0.000226</td>\n",
       "      <td>0.012661</td>\n",
       "      <td>-0.003084</td>\n",
       "      <td>0.003228</td>\n",
       "      <td>0.326589</td>\n",
       "      <td>0.281061</td>\n",
       "      <td>-0.150070</td>\n",
       "    </tr>\n",
       "    <tr>\n",
       "      <th>Cost_of_Trip</th>\n",
       "      <td>0.133713</td>\n",
       "      <td>0.000776</td>\n",
       "      <td>0.981848</td>\n",
       "      <td>0.859812</td>\n",
       "      <td>1.000000</td>\n",
       "      <td>-0.001773</td>\n",
       "      <td>-0.002720</td>\n",
       "      <td>0.486056</td>\n",
       "      <td>0.018536</td>\n",
       "      <td>0.031053</td>\n",
       "      <td>-0.000898</td>\n",
       "      <td>0.000495</td>\n",
       "      <td>-0.000189</td>\n",
       "      <td>-0.000633</td>\n",
       "      <td>0.015108</td>\n",
       "      <td>0.023628</td>\n",
       "      <td>0.018128</td>\n",
       "    </tr>\n",
       "    <tr>\n",
       "      <th>Year</th>\n",
       "      <td>-0.003287</td>\n",
       "      <td>-0.000830</td>\n",
       "      <td>-0.001072</td>\n",
       "      <td>-0.036409</td>\n",
       "      <td>-0.001773</td>\n",
       "      <td>1.000000</td>\n",
       "      <td>-0.007440</td>\n",
       "      <td>-0.060567</td>\n",
       "      <td>-0.077770</td>\n",
       "      <td>-0.076459</td>\n",
       "      <td>-0.000870</td>\n",
       "      <td>-0.012758</td>\n",
       "      <td>-0.000579</td>\n",
       "      <td>-0.001617</td>\n",
       "      <td>0.000003</td>\n",
       "      <td>-0.000771</td>\n",
       "      <td>-0.003306</td>\n",
       "    </tr>\n",
       "    <tr>\n",
       "      <th>Month</th>\n",
       "      <td>-0.031128</td>\n",
       "      <td>-0.005856</td>\n",
       "      <td>0.001033</td>\n",
       "      <td>-0.036288</td>\n",
       "      <td>-0.002720</td>\n",
       "      <td>-0.007440</td>\n",
       "      <td>1.000000</td>\n",
       "      <td>-0.059428</td>\n",
       "      <td>-0.074669</td>\n",
       "      <td>-0.078192</td>\n",
       "      <td>-0.001861</td>\n",
       "      <td>-0.004578</td>\n",
       "      <td>-0.000095</td>\n",
       "      <td>0.000536</td>\n",
       "      <td>0.043058</td>\n",
       "      <td>0.024676</td>\n",
       "      <td>-0.040350</td>\n",
       "    </tr>\n",
       "    <tr>\n",
       "      <th>Profit</th>\n",
       "      <td>0.258426</td>\n",
       "      <td>0.063052</td>\n",
       "      <td>0.462768</td>\n",
       "      <td>0.864154</td>\n",
       "      <td>0.486056</td>\n",
       "      <td>-0.060567</td>\n",
       "      <td>-0.059428</td>\n",
       "      <td>1.000000</td>\n",
       "      <td>0.775171</td>\n",
       "      <td>0.779330</td>\n",
       "      <td>0.001273</td>\n",
       "      <td>0.021182</td>\n",
       "      <td>-0.005093</td>\n",
       "      <td>0.006148</td>\n",
       "      <td>0.544079</td>\n",
       "      <td>0.457758</td>\n",
       "      <td>-0.274715</td>\n",
       "    </tr>\n",
       "    <tr>\n",
       "      <th>ProfitPercentage</th>\n",
       "      <td>0.286510</td>\n",
       "      <td>0.080804</td>\n",
       "      <td>-0.000417</td>\n",
       "      <td>0.463584</td>\n",
       "      <td>0.018536</td>\n",
       "      <td>-0.077770</td>\n",
       "      <td>-0.074669</td>\n",
       "      <td>0.775171</td>\n",
       "      <td>1.000000</td>\n",
       "      <td>0.994458</td>\n",
       "      <td>0.002032</td>\n",
       "      <td>0.025711</td>\n",
       "      <td>-0.006606</td>\n",
       "      <td>0.008196</td>\n",
       "      <td>0.693834</td>\n",
       "      <td>0.580818</td>\n",
       "      <td>-0.356789</td>\n",
       "    </tr>\n",
       "    <tr>\n",
       "      <th>Profit_per_KM</th>\n",
       "      <td>0.331957</td>\n",
       "      <td>0.079695</td>\n",
       "      <td>-0.000538</td>\n",
       "      <td>0.473222</td>\n",
       "      <td>0.031053</td>\n",
       "      <td>-0.076459</td>\n",
       "      <td>-0.078192</td>\n",
       "      <td>0.779330</td>\n",
       "      <td>0.994458</td>\n",
       "      <td>1.000000</td>\n",
       "      <td>0.001932</td>\n",
       "      <td>0.026128</td>\n",
       "      <td>-0.006428</td>\n",
       "      <td>0.008159</td>\n",
       "      <td>0.700522</td>\n",
       "      <td>0.589299</td>\n",
       "      <td>-0.353537</td>\n",
       "    </tr>\n",
       "    <tr>\n",
       "      <th>Payment_Mode</th>\n",
       "      <td>-0.001026</td>\n",
       "      <td>-0.000885</td>\n",
       "      <td>-0.000766</td>\n",
       "      <td>0.000226</td>\n",
       "      <td>-0.000898</td>\n",
       "      <td>-0.000870</td>\n",
       "      <td>-0.001861</td>\n",
       "      <td>0.001273</td>\n",
       "      <td>0.002032</td>\n",
       "      <td>0.001932</td>\n",
       "      <td>1.000000</td>\n",
       "      <td>-0.000080</td>\n",
       "      <td>-0.001118</td>\n",
       "      <td>-0.000866</td>\n",
       "      <td>0.001544</td>\n",
       "      <td>0.001709</td>\n",
       "      <td>0.000945</td>\n",
       "    </tr>\n",
       "    <tr>\n",
       "      <th>Gender</th>\n",
       "      <td>0.017279</td>\n",
       "      <td>-0.011733</td>\n",
       "      <td>-0.001350</td>\n",
       "      <td>0.012661</td>\n",
       "      <td>0.000495</td>\n",
       "      <td>-0.012758</td>\n",
       "      <td>-0.004578</td>\n",
       "      <td>0.021182</td>\n",
       "      <td>0.025711</td>\n",
       "      <td>0.026128</td>\n",
       "      <td>-0.000080</td>\n",
       "      <td>1.000000</td>\n",
       "      <td>0.003366</td>\n",
       "      <td>-0.000991</td>\n",
       "      <td>0.043593</td>\n",
       "      <td>0.060886</td>\n",
       "      <td>-0.001394</td>\n",
       "    </tr>\n",
       "    <tr>\n",
       "      <th>Age</th>\n",
       "      <td>0.000630</td>\n",
       "      <td>-0.008872</td>\n",
       "      <td>-0.000369</td>\n",
       "      <td>-0.003084</td>\n",
       "      <td>-0.000189</td>\n",
       "      <td>-0.000579</td>\n",
       "      <td>-0.000095</td>\n",
       "      <td>-0.005093</td>\n",
       "      <td>-0.006606</td>\n",
       "      <td>-0.006428</td>\n",
       "      <td>-0.001118</td>\n",
       "      <td>0.003366</td>\n",
       "      <td>1.000000</td>\n",
       "      <td>0.003907</td>\n",
       "      <td>-0.009002</td>\n",
       "      <td>-0.005906</td>\n",
       "      <td>-0.001778</td>\n",
       "    </tr>\n",
       "    <tr>\n",
       "      <th>Monthly_income</th>\n",
       "      <td>-0.000712</td>\n",
       "      <td>-0.008725</td>\n",
       "      <td>-0.000544</td>\n",
       "      <td>0.003228</td>\n",
       "      <td>-0.000633</td>\n",
       "      <td>-0.001617</td>\n",
       "      <td>0.000536</td>\n",
       "      <td>0.006148</td>\n",
       "      <td>0.008196</td>\n",
       "      <td>0.008159</td>\n",
       "      <td>-0.000866</td>\n",
       "      <td>-0.000991</td>\n",
       "      <td>0.003907</td>\n",
       "      <td>1.000000</td>\n",
       "      <td>0.011868</td>\n",
       "      <td>0.010464</td>\n",
       "      <td>-0.009332</td>\n",
       "    </tr>\n",
       "    <tr>\n",
       "      <th>Population</th>\n",
       "      <td>0.130920</td>\n",
       "      <td>0.000379</td>\n",
       "      <td>-0.002311</td>\n",
       "      <td>0.326589</td>\n",
       "      <td>0.015108</td>\n",
       "      <td>0.000003</td>\n",
       "      <td>0.043058</td>\n",
       "      <td>0.544079</td>\n",
       "      <td>0.693834</td>\n",
       "      <td>0.700522</td>\n",
       "      <td>0.001544</td>\n",
       "      <td>0.043593</td>\n",
       "      <td>-0.009002</td>\n",
       "      <td>0.011868</td>\n",
       "      <td>1.000000</td>\n",
       "      <td>0.915490</td>\n",
       "      <td>-0.498707</td>\n",
       "    </tr>\n",
       "    <tr>\n",
       "      <th>Users</th>\n",
       "      <td>0.180476</td>\n",
       "      <td>-0.005128</td>\n",
       "      <td>-0.000428</td>\n",
       "      <td>0.281061</td>\n",
       "      <td>0.023628</td>\n",
       "      <td>-0.000771</td>\n",
       "      <td>0.024676</td>\n",
       "      <td>0.457758</td>\n",
       "      <td>0.580818</td>\n",
       "      <td>0.589299</td>\n",
       "      <td>0.001709</td>\n",
       "      <td>0.060886</td>\n",
       "      <td>-0.005906</td>\n",
       "      <td>0.010464</td>\n",
       "      <td>0.915490</td>\n",
       "      <td>1.000000</td>\n",
       "      <td>-0.258919</td>\n",
       "    </tr>\n",
       "    <tr>\n",
       "      <th>User_percent</th>\n",
       "      <td>0.118189</td>\n",
       "      <td>0.207573</td>\n",
       "      <td>0.002305</td>\n",
       "      <td>-0.150070</td>\n",
       "      <td>0.018128</td>\n",
       "      <td>-0.003306</td>\n",
       "      <td>-0.040350</td>\n",
       "      <td>-0.274715</td>\n",
       "      <td>-0.356789</td>\n",
       "      <td>-0.353537</td>\n",
       "      <td>0.000945</td>\n",
       "      <td>-0.001394</td>\n",
       "      <td>-0.001778</td>\n",
       "      <td>-0.009332</td>\n",
       "      <td>-0.498707</td>\n",
       "      <td>-0.258919</td>\n",
       "      <td>1.000000</td>\n",
       "    </tr>\n",
       "  </tbody>\n",
       "</table>\n",
       "</div>"
      ],
      "text/plain": [
       "                   Company      City  KM_Travelled  Price_Charged  \\\n",
       "Company           1.000000  0.002109      0.000333       0.227986   \n",
       "City              0.002109  1.000000      0.000471       0.037286   \n",
       "KM_Travelled      0.000333  0.000471      1.000000       0.835753   \n",
       "Price_Charged     0.227986  0.037286      0.835753       1.000000   \n",
       "Cost_of_Trip      0.133713  0.000776      0.981848       0.859812   \n",
       "Year             -0.003287 -0.000830     -0.001072      -0.036409   \n",
       "Month            -0.031128 -0.005856      0.001033      -0.036288   \n",
       "Profit            0.258426  0.063052      0.462768       0.864154   \n",
       "ProfitPercentage  0.286510  0.080804     -0.000417       0.463584   \n",
       "Profit_per_KM     0.331957  0.079695     -0.000538       0.473222   \n",
       "Payment_Mode     -0.001026 -0.000885     -0.000766       0.000226   \n",
       "Gender            0.017279 -0.011733     -0.001350       0.012661   \n",
       "Age               0.000630 -0.008872     -0.000369      -0.003084   \n",
       "Monthly_income   -0.000712 -0.008725     -0.000544       0.003228   \n",
       "Population        0.130920  0.000379     -0.002311       0.326589   \n",
       "Users             0.180476 -0.005128     -0.000428       0.281061   \n",
       "User_percent      0.118189  0.207573      0.002305      -0.150070   \n",
       "\n",
       "                  Cost_of_Trip      Year     Month    Profit  \\\n",
       "Company               0.133713 -0.003287 -0.031128  0.258426   \n",
       "City                  0.000776 -0.000830 -0.005856  0.063052   \n",
       "KM_Travelled          0.981848 -0.001072  0.001033  0.462768   \n",
       "Price_Charged         0.859812 -0.036409 -0.036288  0.864154   \n",
       "Cost_of_Trip          1.000000 -0.001773 -0.002720  0.486056   \n",
       "Year                 -0.001773  1.000000 -0.007440 -0.060567   \n",
       "Month                -0.002720 -0.007440  1.000000 -0.059428   \n",
       "Profit                0.486056 -0.060567 -0.059428  1.000000   \n",
       "ProfitPercentage      0.018536 -0.077770 -0.074669  0.775171   \n",
       "Profit_per_KM         0.031053 -0.076459 -0.078192  0.779330   \n",
       "Payment_Mode         -0.000898 -0.000870 -0.001861  0.001273   \n",
       "Gender                0.000495 -0.012758 -0.004578  0.021182   \n",
       "Age                  -0.000189 -0.000579 -0.000095 -0.005093   \n",
       "Monthly_income       -0.000633 -0.001617  0.000536  0.006148   \n",
       "Population            0.015108  0.000003  0.043058  0.544079   \n",
       "Users                 0.023628 -0.000771  0.024676  0.457758   \n",
       "User_percent          0.018128 -0.003306 -0.040350 -0.274715   \n",
       "\n",
       "                  ProfitPercentage  Profit_per_KM  Payment_Mode    Gender  \\\n",
       "Company                   0.286510       0.331957     -0.001026  0.017279   \n",
       "City                      0.080804       0.079695     -0.000885 -0.011733   \n",
       "KM_Travelled             -0.000417      -0.000538     -0.000766 -0.001350   \n",
       "Price_Charged             0.463584       0.473222      0.000226  0.012661   \n",
       "Cost_of_Trip              0.018536       0.031053     -0.000898  0.000495   \n",
       "Year                     -0.077770      -0.076459     -0.000870 -0.012758   \n",
       "Month                    -0.074669      -0.078192     -0.001861 -0.004578   \n",
       "Profit                    0.775171       0.779330      0.001273  0.021182   \n",
       "ProfitPercentage          1.000000       0.994458      0.002032  0.025711   \n",
       "Profit_per_KM             0.994458       1.000000      0.001932  0.026128   \n",
       "Payment_Mode              0.002032       0.001932      1.000000 -0.000080   \n",
       "Gender                    0.025711       0.026128     -0.000080  1.000000   \n",
       "Age                      -0.006606      -0.006428     -0.001118  0.003366   \n",
       "Monthly_income            0.008196       0.008159     -0.000866 -0.000991   \n",
       "Population                0.693834       0.700522      0.001544  0.043593   \n",
       "Users                     0.580818       0.589299      0.001709  0.060886   \n",
       "User_percent             -0.356789      -0.353537      0.000945 -0.001394   \n",
       "\n",
       "                       Age  Monthly_income  Population     Users  User_percent  \n",
       "Company           0.000630       -0.000712    0.130920  0.180476      0.118189  \n",
       "City             -0.008872       -0.008725    0.000379 -0.005128      0.207573  \n",
       "KM_Travelled     -0.000369       -0.000544   -0.002311 -0.000428      0.002305  \n",
       "Price_Charged    -0.003084        0.003228    0.326589  0.281061     -0.150070  \n",
       "Cost_of_Trip     -0.000189       -0.000633    0.015108  0.023628      0.018128  \n",
       "Year             -0.000579       -0.001617    0.000003 -0.000771     -0.003306  \n",
       "Month            -0.000095        0.000536    0.043058  0.024676     -0.040350  \n",
       "Profit           -0.005093        0.006148    0.544079  0.457758     -0.274715  \n",
       "ProfitPercentage -0.006606        0.008196    0.693834  0.580818     -0.356789  \n",
       "Profit_per_KM    -0.006428        0.008159    0.700522  0.589299     -0.353537  \n",
       "Payment_Mode     -0.001118       -0.000866    0.001544  0.001709      0.000945  \n",
       "Gender            0.003366       -0.000991    0.043593  0.060886     -0.001394  \n",
       "Age               1.000000        0.003907   -0.009002 -0.005906     -0.001778  \n",
       "Monthly_income    0.003907        1.000000    0.011868  0.010464     -0.009332  \n",
       "Population       -0.009002        0.011868    1.000000  0.915490     -0.498707  \n",
       "Users            -0.005906        0.010464    0.915490  1.000000     -0.258919  \n",
       "User_percent     -0.001778       -0.009332   -0.498707 -0.258919      1.000000  "
      ]
     },
     "execution_count": 109,
     "metadata": {},
     "output_type": "execute_result"
    }
   ],
   "source": [
    "rel = value.corr()\n",
    "rel"
   ]
  },
  {
   "cell_type": "code",
   "execution_count": 112,
   "metadata": {},
   "outputs": [
    {
     "data": {
      "text/plain": [
       "<AxesSubplot:>"
      ]
     },
     "execution_count": 112,
     "metadata": {},
     "output_type": "execute_result"
    },
    {
     "data": {
      "image/png": "[encoded data removed]",
      "text/plain": [
       "<Figure size 720x720 with 2 Axes>"
      ]
     },
     "metadata": {
      "needs_background": "light"
     },
     "output_type": "display_data"
    }
   ],
   "source": [
    "fig, ax = plt.subplots(figsize=(10,10))\n",
    "sns.heatmap(rel, ax=ax)"
   ]
  },
  {
   "cell_type": "markdown",
   "metadata": {},
   "source": [
    "List of highly correlated attributes\n",
    "* KM_Travelled and Price_Charged\n",
    "* KM_Travelled and Cost_of_Trip\n",
    "* Price_Charged and Cost_of_Trip\n",
    "* Profit and ProfitPercentage"
   ]
  },
  {
   "cell_type": "code",
   "execution_count": 116,
   "metadata": {},
   "outputs": [
    {
     "data": {
      "image/png": "[encoded data removed]",
      "text/plain": [
       "<Figure size 1008x432 with 1 Axes>"
      ]
     },
     "metadata": {
      "needs_background": "light"
     },
     "output_type": "display_data"
    },
    {
     "name": "stdout",
     "output_type": "stream",
     "text": [
      "                   Profits\n",
      "City                      \n",
      "NEW YORK NY     27962555.0\n",
      "LOS ANGELES CA   4411709.0\n",
      "WASHINGTON DC    3492870.0\n",
      "CHICAGO IL       3387313.0\n",
      "BOSTON MA        1768719.0\n",
      "SAN DIEGO CA     1587163.0\n",
      "SILICON VALLEY   1316705.0\n",
      "DALLAS TX        1128733.0\n",
      "ATLANTA GA        842433.0\n",
      "MIAMI FL          758301.0\n",
      "SEATTLE WA        604685.0\n",
      "AUSTIN TX         526701.0\n",
      "ORANGE COUNTY     457002.0\n",
      "DENVER CO         397585.0\n",
      "PHOENIX AZ        192941.0\n",
      "NASHVILLE TN      149532.0\n",
      "TUCSON AZ         140261.0\n",
      "SACRAMENTO CA     117326.0\n",
      "PITTSBURGH PA      85166.0\n"
     ]
    }
   ],
   "source": [
    "price = np.array(cabdata[\"Price_Charged\"])\n",
    "cost = np.array(cabdata[\"Cost_of_Trip\"])\n",
    "profit = np.subtract(price,cost)\n",
    "new = zip(cabdata[\"City\"],profit)\n",
    "profit_df = (pd.DataFrame(new,columns = [\"City\",\"Profits\"]).groupby(\"City\").sum()).sort_values(by = \"Profits\",ascending=False)\n",
    "new_df = profit_df.round()\n",
    "\n",
    "plt.figure(figsize = (14,6))\n",
    "plt.bar(new_df.index,new_df.Profits)\n",
    "plt.xticks(rotation=\"90\")\n",
    "plt.ylabel(\"Profits\")\n",
    "plt.title(\"Profits for each city\")\n",
    "plt.show()\n",
    "\n",
    "print(new_df)"
   ]
  },
  {
   "cell_type": "code",
   "execution_count": 118,
   "metadata": {},
   "outputs": [
    {
     "data": {
      "image/png": "[encoded data removed]",
      "text/plain": [
       "<Figure size 1008x432 with 1 Axes>"
      ]
     },
     "metadata": {
      "needs_background": "light"
     },
     "output_type": "display_data"
    },
    {
     "name": "stdout",
     "output_type": "stream",
     "text": [
      "                profiT\n",
      "City                  \n",
      "NEW YORK NY       96.0\n",
      "DALLAS TX         55.0\n",
      "SILICON VALLEY    54.0\n",
      "MIAMI FL          41.0\n",
      "ORANGE COUNTY     41.0\n",
      "ATLANTA GA        39.0\n",
      "AUSTIN TX         39.0\n",
      "DENVER CO         36.0\n",
      "PHOENIX AZ        33.0\n",
      "LOS ANGELES CA    33.0\n",
      "SAN DIEGO CA      29.0\n",
      "WASHINGTON DC     27.0\n",
      "TUCSON AZ         27.0\n",
      "SEATTLE WA        27.0\n",
      "PITTSBURGH PA     22.0\n",
      "BOSTON MA         21.0\n",
      "CHICAGO IL        21.0\n",
      "SACRAMENTO CA     18.0\n",
      "NASHVILLE TN      18.0\n"
     ]
    }
   ],
   "source": [
    "profiT = np.array(cabdata[\"ProfitPercentage\"])\n",
    "new = zip(cabdata[\"City\"],profiT)\n",
    "profit_df = (pd.DataFrame(new,columns = [\"City\",\"profiT\"]).groupby(\"City\").mean()).sort_values(by = \"profiT\",ascending=False)\n",
    "new_df = profit_df.round()\n",
    "\n",
    "plt.figure(figsize = (14,6))\n",
    "plt.bar(new_df.index,new_df.profiT)\n",
    "plt.xticks(rotation=\"90\")\n",
    "plt.ylabel(\"profiT\")\n",
    "plt.title(\"profiT for each city\")\n",
    "plt.show()\n",
    "\n",
    "print(new_df)"
   ]
  },
  {
   "cell_type": "markdown",
   "metadata": {},
   "source": [
    "The graphs above depict the trend in city profits and profit percentages."
   ]
  },
  {
   "cell_type": "code",
   "execution_count": 113,
   "metadata": {},
   "outputs": [
    {
     "data": {
      "image/png": "[encoded data removed]",
      "text/plain": [
       "<Figure size 432x288 with 1 Axes>"
      ]
     },
     "metadata": {
      "needs_background": "light"
     },
     "output_type": "display_data"
    },
    {
     "name": "stdout",
     "output_type": "stream",
     "text": [
      "Company       Pink Cab  Yellow Cab\n",
      "Payment_Mode                      \n",
      "Card             50719      164785\n",
      "Cash             33992      109896\n"
     ]
    }
   ],
   "source": [
    "numbers = Master_D.groupby(['Payment_Mode','Company']).Transaction_ID.count().unstack()\n",
    "ax = numbers.plot(kind='bar',stacked = False)\n",
    "plt.show()\n",
    "print(numbers)"
   ]
  },
  {
   "cell_type": "code",
   "execution_count": 119,
   "metadata": {},
   "outputs": [
    {
     "data": {
      "image/png": "[encoded data removed]",
      "text/plain": [
       "<Figure size 1008x432 with 1 Axes>"
      ]
     },
     "metadata": {
      "needs_background": "light"
     },
     "output_type": "display_data"
    },
    {
     "data": {
      "image/png": "[encoded data removed]",
      "text/plain": [
       "<Figure size 1008x432 with 1 Axes>"
      ]
     },
     "metadata": {
      "needs_background": "light"
     },
     "output_type": "display_data"
    }
   ],
   "source": [
    "yellow = Master_D[Master_D.Company.isin(['Yellow Cab'])]\n",
    "pink = Master_D[Master_D.Company.isin(['Pink Cab'])]\n",
    "number= yellow.groupby(['City']).Profit.mean()\n",
    "y_new = (yellow.groupby(\"City\").mean())\n",
    "plt.figure(figsize = (14,6))\n",
    "plt.bar(y_new.index,y_new[\"Profit\"])\n",
    "plt.xticks(rotation=\"90\")\n",
    "plt.ylabel(\"City\")\n",
    "plt.title(\"Average Profit for Yellow Cab\")\n",
    "plt.show()\n",
    "\n",
    "number = pink.groupby(['City']).Profit.mean()\n",
    "p_new = (pink.groupby(\"City\").mean())\n",
    "plt.figure(figsize = (14,6))\n",
    "plt.bar(p_new.index,p_new[\"Profit\"])\n",
    "plt.xticks(rotation=\"90\")\n",
    "plt.ylabel(\"City\")\n",
    "plt.title(\"Average Profit for Pink Cab\")\n",
    "plt.show()"
   ]
  },
  {
   "cell_type": "markdown",
   "metadata": {},
   "source": [
    "The graphs above depict the trend in profits and profit percentages by city."
   ]
  }
 ],
 "metadata": {
  "kernelspec": {
   "display_name": "Python 3.8.8 ('base')",
   "language": "python",
   "name": "python3"
  },
  "language_info": {
   "codemirror_mode": {
    "name": "ipython",
    "version": 3
   },
   "file_extension": ".py",
   "mimetype": "text/x-python",
   "name": "python",
   "nbconvert_exporter": "python",
   "pygments_lexer": "ipython3",
   "version": "3.8.8"
  },
  "orig_nbformat": 4,
  "vscode": {
   "interpreter": {
    "hash": "d6a8dc9454a4bd6b3dff40ba731e4db613d388a59ebe70b7fcf92e9bf9bceac2"
   }
  }
 },
 "nbformat": 4,
 "nbformat_minor": 2
}
